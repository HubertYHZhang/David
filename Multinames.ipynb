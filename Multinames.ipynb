{
 "cells": [
  {
   "cell_type": "code",
   "execution_count": 1,
   "id": "ab523681",
   "metadata": {},
   "outputs": [
    {
     "data": {
      "text/plain": [
       "1          [LEE, WAI, HONG, &, NGAN, TIK, HAN, NDIYA, (JT)]\n",
       "2                                         [CHAN, WAI, LUEN]\n",
       "4                                    [LI, YEE, LIN, ELAINE]\n",
       "5                  [CHU, MING, WAH, &, YU, LAI, PING, (JT)]\n",
       "6                  [CHU, PO, LUN, &, LAU, SHUK, MING, (JT)]\n",
       "                                 ...                       \n",
       "2261121            [LIU, WING, KAI, &, LO, LAI, YING, (JT)]\n",
       "2261122        [LEUNG, TIM, &, LEUNG, CHIM, YAN, IDY, (JT)]\n",
       "2261123         [MOK, KANG, MING, &, LEE, CHI, CHING, (JT)]\n",
       "2261124                                 [HAU, SIU, PO, 1/2]\n",
       "2261125           [NG, KATHERINE, &, LI, CHOR, KEUNG, (JT)]\n",
       "Name: name, Length: 2030377, dtype: object"
      ]
     },
     "execution_count": 1,
     "metadata": {},
     "output_type": "execute_result"
    }
   ],
   "source": [
    "import pandas as pd\n",
    "\n",
    "names=pd.read_csv('/Users/hubertcheung/Downloads/temp.csv')\n",
    "names=names.dropna()\n",
    "nameparse=names['name'].str.split()\n",
    "\n",
    "nameparse = nameparse[nameparse.apply(lambda x: (isinstance(x, list) and len(x)>0))]\n",
    "nameparse = nameparse[nameparse.apply(lambda x: 'LTD' not in x)]\n",
    "nameparse"
   ]
  },
  {
   "cell_type": "code",
   "execution_count": 2,
   "id": "a12cb578",
   "metadata": {},
   "outputs": [],
   "source": [
    "with open('canton.txt', 'r', encoding='utf-8') as file:\n",
    "    lines = file.readlines()\n",
    "\n",
    "canton = [line.strip() for line in lines]"
   ]
  },
  {
   "cell_type": "code",
   "execution_count": 9,
   "id": "4149119b",
   "metadata": {},
   "outputs": [],
   "source": [
    "with open('pinyin.txt','r',encoding='utf-8') as file:\n",
    "    lines=file.readlines()\n",
    "\n",
    "pinyin = [line.strip() for line in lines]"
   ]
  },
  {
   "cell_type": "code",
   "execution_count": 3,
   "id": "ecce74b9",
   "metadata": {},
   "outputs": [],
   "source": [
    "onename = nameparse[nameparse.astype(str).apply(lambda x: '&' not in x)]\n",
    "#Those with only one element are weird and should be picked out\n",
    "singleelement = onename[onename.apply(lambda x:len(x)==1)]\n",
    "onename = onename[onename.apply(lambda x:len(x)!=1)]"
   ]
  },
  {
   "cell_type": "code",
   "execution_count": 6,
   "id": "630b6e2a",
   "metadata": {},
   "outputs": [],
   "source": [
    "df = pd.DataFrame(nameparse)"
   ]
  },
  {
   "cell_type": "code",
   "execution_count": 7,
   "id": "dad2dddd",
   "metadata": {},
   "outputs": [
    {
     "name": "stdout",
     "output_type": "stream",
     "text": [
      "554786\n",
      "554786\n"
     ]
    }
   ],
   "source": [
    "HKname = onename[onename.apply(lambda x: x[0] in canton and x[1] in canton)]\n",
    "print(len(HKname))\n",
    "HKname_v1 = onename[onename.apply(lambda x: x[0] in canton or x[1] in canton)]\n",
    "print(len(HKname_v1))"
   ]
  },
  {
   "cell_type": "code",
   "execution_count": 10,
   "id": "dd913661",
   "metadata": {},
   "outputs": [],
   "source": [
    "MLname = onename[onename.apply(lambda x: x[0] in pinyin)]"
   ]
  },
  {
   "cell_type": "code",
   "execution_count": 33,
   "id": "3f882d84",
   "metadata": {},
   "outputs": [],
   "source": [
    "import numpy as np\n",
    "blur = np.intersect1d(HKname_v1.index, MLname.index)\n",
    "firstpinyin = HKname_v1[blur]"
   ]
  },
  {
   "cell_type": "code",
   "execution_count": 21,
   "id": "d55ed47b",
   "metadata": {},
   "outputs": [],
   "source": [
    "possiblepinyin = firstpinyin[firstpinyin.apply(lambda x: x[1] in pinyin if len(x)==2 else x[1] in pinyin and x[2] in pinyin)]"
   ]
  },
  {
   "cell_type": "code",
   "execution_count": 34,
   "id": "5bb0b150",
   "metadata": {},
   "outputs": [
    {
     "data": {
      "text/plain": [
       "80                                        [HU, JACHIN]\n",
       "102                                    [ZOU, ZHONGHUA]\n",
       "198                                       [YANG, XIAO]\n",
       "275                                    [ZHENG, JINLIN]\n",
       "278                                  [MOU, CHIA, CHUN]\n",
       "                              ...                     \n",
       "2260692                                [HUANG, JIANRU]\n",
       "2260732                                  [LAO, I, MUI]\n",
       "2260753    [LIAO, SHIU, HSING, LUCY, \"ADMINISTRATRIX\"]\n",
       "2260848                         [ZHANG, MIN, ISABELLE]\n",
       "2261079                           [HUANG, HSIEH, LIEN]\n",
       "Name: name, Length: 30175, dtype: object"
      ]
     },
     "execution_count": 34,
     "metadata": {},
     "output_type": "execute_result"
    }
   ],
   "source": [
    "MLname[~MLname.index.isin(blur)]"
   ]
  },
  {
   "cell_type": "code",
   "execution_count": 76,
   "id": "84a3111b",
   "metadata": {},
   "outputs": [],
   "source": [
    "def identify(name):\n",
    "    return 'HK'"
   ]
  },
  {
   "cell_type": "code",
   "execution_count": 35,
   "id": "ff79c829",
   "metadata": {},
   "outputs": [],
   "source": [
    "#Multiple name list\n",
    "multiname = nameparse[nameparse.apply(lambda x: '&' in x)]"
   ]
  },
  {
   "cell_type": "code",
   "execution_count": 48,
   "id": "218429aa",
   "metadata": {},
   "outputs": [],
   "source": [
    "def count(a):\n",
    "    count=0\n",
    "    for item in a:\n",
    "        if item == '&':\n",
    "            count+=1\n",
    "    return count\n",
    "\n",
    "counting = nameparse.apply(lambda x: count(x))"
   ]
  },
  {
   "cell_type": "code",
   "execution_count": 63,
   "id": "4b38d762",
   "metadata": {},
   "outputs": [],
   "source": [
    "def locate(a,n):\n",
    "    count = 0\n",
    "    for i,item in enumerate(a):\n",
    "        if item == '&':\n",
    "            count += 1\n",
    "        if count == n:\n",
    "            return i\n",
    "    if n == 0:\n",
    "        return 0\n",
    "    if n == count(a):\n",
    "        return len(a)"
   ]
  },
  {
   "cell_type": "code",
   "execution_count": 69,
   "id": "41a45685",
   "metadata": {},
   "outputs": [],
   "source": [
    "def clean(mylist):\n",
    "    i = 1\n",
    "    newlist = []\n",
    "    consecutive = False\n",
    "    for item in mylist:\n",
    "        if item == '&':\n",
    "            if not consecutive:\n",
    "                newlist.append(item)\n",
    "                consecutive = True\n",
    "        else:\n",
    "            newlist.append(item)\n",
    "            consecutive = False\n",
    "    if mylist[-1] == '&':\n",
    "        mylist = mylist[:-1]\n",
    "    return newlist"
   ]
  },
  {
   "cell_type": "code",
   "execution_count": 70,
   "id": "4a53881a",
   "metadata": {},
   "outputs": [],
   "source": [
    "nameparse = nameparse.apply(lambda x: clean(x))"
   ]
  },
  {
   "cell_type": "code",
   "execution_count": 71,
   "id": "4e9769f4",
   "metadata": {},
   "outputs": [],
   "source": [
    "#This only works on multiple names.\n",
    "def nameloop(namelist):\n",
    "    namecount = count(namelist) #Notice that here namecount is actually the number of names - 1.\n",
    "    origin = []\n",
    "    for num in range(namecount):\n",
    "        name = namelist[locate(namelist,num):locate(namelist,num+1)]\n",
    "        if name[0] == '&':\n",
    "            name = name[1:]\n",
    "        origin.append(identify(name))\n",
    "    check1 = {'HK','ML','F'}\n",
    "    check2 = {'HK','ML'}\n",
    "    check3 = {'HK','F'}\n",
    "    check4 = {'ML','F'}\n",
    "    check5 = {'HK'}\n",
    "    check6 = {'ML'}\n",
    "    check7 = {'F'}\n",
    "    check = [check1,check2,check3,check4,check5,check6,check7]\n",
    "    origin_set = set(origin)\n",
    "    for item in check:\n",
    "        if item == origin_set:\n",
    "            return item\n",
    "    #Directly return origin_set may incur problem about order of elements."
   ]
  },
  {
   "cell_type": "code",
   "execution_count": 77,
   "id": "3688dc79",
   "metadata": {},
   "outputs": [],
   "source": [
    "f = lambda x: identify(x) if count(x)==0 else ''\n",
    "df['single'] = df['name'].apply(f)\n",
    "        \n",
    "g = lambda x: nameloop(x) if count(x)>0 else ''\n",
    "df['multiple'] = df['name'].apply(g)"
   ]
  },
  {
   "cell_type": "code",
   "execution_count": 78,
   "id": "51ef1e5c",
   "metadata": {},
   "outputs": [
    {
     "data": {
      "text/html": [
       "<div>\n",
       "<style scoped>\n",
       "    .dataframe tbody tr th:only-of-type {\n",
       "        vertical-align: middle;\n",
       "    }\n",
       "\n",
       "    .dataframe tbody tr th {\n",
       "        vertical-align: top;\n",
       "    }\n",
       "\n",
       "    .dataframe thead th {\n",
       "        text-align: right;\n",
       "    }\n",
       "</style>\n",
       "<table border=\"1\" class=\"dataframe\">\n",
       "  <thead>\n",
       "    <tr style=\"text-align: right;\">\n",
       "      <th></th>\n",
       "      <th>name</th>\n",
       "      <th>single</th>\n",
       "      <th>multiple</th>\n",
       "    </tr>\n",
       "  </thead>\n",
       "  <tbody>\n",
       "    <tr>\n",
       "      <th>1</th>\n",
       "      <td>[LEE, WAI, HONG, &amp;, NGAN, TIK, HAN, NDIYA, (JT)]</td>\n",
       "      <td></td>\n",
       "      <td>{HK}</td>\n",
       "    </tr>\n",
       "    <tr>\n",
       "      <th>2</th>\n",
       "      <td>[CHAN, WAI, LUEN]</td>\n",
       "      <td>HK</td>\n",
       "      <td></td>\n",
       "    </tr>\n",
       "    <tr>\n",
       "      <th>4</th>\n",
       "      <td>[LI, YEE, LIN, ELAINE]</td>\n",
       "      <td>HK</td>\n",
       "      <td></td>\n",
       "    </tr>\n",
       "    <tr>\n",
       "      <th>5</th>\n",
       "      <td>[CHU, MING, WAH, &amp;, YU, LAI, PING, (JT)]</td>\n",
       "      <td></td>\n",
       "      <td>{HK}</td>\n",
       "    </tr>\n",
       "    <tr>\n",
       "      <th>6</th>\n",
       "      <td>[CHU, PO, LUN, &amp;, LAU, SHUK, MING, (JT)]</td>\n",
       "      <td></td>\n",
       "      <td>{HK}</td>\n",
       "    </tr>\n",
       "    <tr>\n",
       "      <th>...</th>\n",
       "      <td>...</td>\n",
       "      <td>...</td>\n",
       "      <td>...</td>\n",
       "    </tr>\n",
       "    <tr>\n",
       "      <th>2261121</th>\n",
       "      <td>[LIU, WING, KAI, &amp;, LO, LAI, YING, (JT)]</td>\n",
       "      <td></td>\n",
       "      <td>{HK}</td>\n",
       "    </tr>\n",
       "    <tr>\n",
       "      <th>2261122</th>\n",
       "      <td>[LEUNG, TIM, &amp;, LEUNG, CHIM, YAN, IDY, (JT)]</td>\n",
       "      <td></td>\n",
       "      <td>{HK}</td>\n",
       "    </tr>\n",
       "    <tr>\n",
       "      <th>2261123</th>\n",
       "      <td>[MOK, KANG, MING, &amp;, LEE, CHI, CHING, (JT)]</td>\n",
       "      <td></td>\n",
       "      <td>{HK}</td>\n",
       "    </tr>\n",
       "    <tr>\n",
       "      <th>2261124</th>\n",
       "      <td>[HAU, SIU, PO, 1/2]</td>\n",
       "      <td>HK</td>\n",
       "      <td></td>\n",
       "    </tr>\n",
       "    <tr>\n",
       "      <th>2261125</th>\n",
       "      <td>[NG, KATHERINE, &amp;, LI, CHOR, KEUNG, (JT)]</td>\n",
       "      <td></td>\n",
       "      <td>{HK}</td>\n",
       "    </tr>\n",
       "  </tbody>\n",
       "</table>\n",
       "<p>2030377 rows × 3 columns</p>\n",
       "</div>"
      ],
      "text/plain": [
       "                                                     name single multiple\n",
       "1        [LEE, WAI, HONG, &, NGAN, TIK, HAN, NDIYA, (JT)]            {HK}\n",
       "2                                       [CHAN, WAI, LUEN]     HK         \n",
       "4                                  [LI, YEE, LIN, ELAINE]     HK         \n",
       "5                [CHU, MING, WAH, &, YU, LAI, PING, (JT)]            {HK}\n",
       "6                [CHU, PO, LUN, &, LAU, SHUK, MING, (JT)]            {HK}\n",
       "...                                                   ...    ...      ...\n",
       "2261121          [LIU, WING, KAI, &, LO, LAI, YING, (JT)]            {HK}\n",
       "2261122      [LEUNG, TIM, &, LEUNG, CHIM, YAN, IDY, (JT)]            {HK}\n",
       "2261123       [MOK, KANG, MING, &, LEE, CHI, CHING, (JT)]            {HK}\n",
       "2261124                               [HAU, SIU, PO, 1/2]     HK         \n",
       "2261125         [NG, KATHERINE, &, LI, CHOR, KEUNG, (JT)]            {HK}\n",
       "\n",
       "[2030377 rows x 3 columns]"
      ]
     },
     "execution_count": 78,
     "metadata": {},
     "output_type": "execute_result"
    }
   ],
   "source": [
    "df"
   ]
  }
 ],
 "metadata": {
  "kernelspec": {
   "display_name": "Python 3 (ipykernel)",
   "language": "python",
   "name": "python3"
  },
  "language_info": {
   "codemirror_mode": {
    "name": "ipython",
    "version": 3
   },
   "file_extension": ".py",
   "mimetype": "text/x-python",
   "name": "python",
   "nbconvert_exporter": "python",
   "pygments_lexer": "ipython3",
   "version": "3.9.7"
  }
 },
 "nbformat": 4,
 "nbformat_minor": 5
}
