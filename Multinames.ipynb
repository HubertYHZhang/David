{
 "cells": [
  {
   "cell_type": "code",
   "execution_count": 14,
   "id": "ab523681",
   "metadata": {},
   "outputs": [
    {
     "data": {
      "text/plain": [
       "1          [LEE, WAI, HONG, &, NGAN, TIK, HAN, NDIYA, (JT)]\n",
       "2                                         [CHAN, WAI, LUEN]\n",
       "4                                    [LI, YEE, LIN, ELAINE]\n",
       "5                  [CHU, MING, WAH, &, YU, LAI, PING, (JT)]\n",
       "6                  [CHU, PO, LUN, &, LAU, SHUK, MING, (JT)]\n",
       "                                 ...                       \n",
       "2261121            [LIU, WING, KAI, &, LO, LAI, YING, (JT)]\n",
       "2261122        [LEUNG, TIM, &, LEUNG, CHIM, YAN, IDY, (JT)]\n",
       "2261123         [MOK, KANG, MING, &, LEE, CHI, CHING, (JT)]\n",
       "2261124                                 [HAU, SIU, PO, 1/2]\n",
       "2261125           [NG, KATHERINE, &, LI, CHOR, KEUNG, (JT)]\n",
       "Name: name, Length: 2030377, dtype: object"
      ]
     },
     "execution_count": 14,
     "metadata": {},
     "output_type": "execute_result"
    }
   ],
   "source": [
    "import pandas as pd\n",
    "\n",
    "names=pd.read_csv('/Users/hubertcheung/Downloads/temp.csv')\n",
    "names=names.dropna()\n",
    "nameparse=names['name'].str.split()\n",
    "\n",
    "nameparse = nameparse[nameparse.apply(lambda x: (isinstance(x, list) and len(x)>0))]\n",
    "nameparse = nameparse[nameparse.apply(lambda x: 'LTD' not in x)]\n",
    "nameparse"
   ]
  },
  {
   "cell_type": "code",
   "execution_count": 123,
   "id": "a12cb578",
   "metadata": {},
   "outputs": [],
   "source": [
    "with open('canton.txt', 'r', encoding='utf-8') as file:\n",
    "    lines = file.readlines()\n",
    "\n",
    "canton = [line.strip() for line in lines]"
   ]
  },
  {
   "cell_type": "code",
   "execution_count": 124,
   "id": "4149119b",
   "metadata": {},
   "outputs": [],
   "source": [
    "with open('pinyin.txt','r',encoding='utf-8') as file:\n",
    "    lines=file.readlines()\n",
    "\n",
    "pinyin = [line.strip() for line in lines]"
   ]
  },
  {
   "cell_type": "code",
   "execution_count": 120,
   "id": "b74023b7",
   "metadata": {},
   "outputs": [],
   "source": [
    "with open('last_name_pinyin.txt','r',encoding='utf-8') as file:\n",
    "    lines=file.readlines()\n",
    "    \n",
    "last_name_pinyin = [line.strip() for line in lines]"
   ]
  },
  {
   "cell_type": "code",
   "execution_count": 121,
   "id": "7cc948ff",
   "metadata": {},
   "outputs": [],
   "source": [
    "with open('last_name_canton.txt','r',encoding='utf-8') as file:\n",
    "    lines=file.readlines()\n",
    "    \n",
    "last_name_canton = [line.strip() for line in lines]"
   ]
  },
  {
   "cell_type": "code",
   "execution_count": 116,
   "id": "cb0a347d",
   "metadata": {},
   "outputs": [],
   "source": [
    "test_HK = onename[onename.apply(lambda x: x[0] in last_name_canton)]"
   ]
  },
  {
   "cell_type": "code",
   "execution_count": 117,
   "id": "e6685b35",
   "metadata": {},
   "outputs": [],
   "source": [
    "test_ML = onename[onename.apply(lambda x: x[0] in last_name_pinyin)]"
   ]
  },
  {
   "cell_type": "code",
   "execution_count": 118,
   "id": "0965b650",
   "metadata": {},
   "outputs": [],
   "source": [
    "resid = onename[onename.apply(lambda x: x[0] not in last_name_canton and x[0] not in last_name_pinyin)]\n",
    "resid.to_csv('resid.csv')"
   ]
  },
  {
   "cell_type": "code",
   "execution_count": 6,
   "id": "564e4acc",
   "metadata": {},
   "outputs": [],
   "source": [
    "pinyin_dual = [a+b for a in pinyin for b in pinyin]"
   ]
  },
  {
   "cell_type": "code",
   "execution_count": 15,
   "id": "ecce74b9",
   "metadata": {},
   "outputs": [],
   "source": [
    "onename = nameparse[nameparse.astype(str).apply(lambda x: '&' not in x)]\n",
    "#Those with only one element are weird and should be picked out\n",
    "singleelement = onename[onename.apply(lambda x:len(x)==1)]\n",
    "onename = onename[onename.apply(lambda x:len(x)!=1)]"
   ]
  },
  {
   "cell_type": "code",
   "execution_count": 201,
   "id": "630b6e2a",
   "metadata": {},
   "outputs": [],
   "source": [
    "df = pd.DataFrame(nameparse)"
   ]
  },
  {
   "cell_type": "code",
   "execution_count": 7,
   "id": "dad2dddd",
   "metadata": {},
   "outputs": [
    {
     "name": "stdout",
     "output_type": "stream",
     "text": [
      "554786\n",
      "554786\n"
     ]
    }
   ],
   "source": [
    "HKname = onename[onename.apply(lambda x: x[0] in canton and x[1] in canton)]\n",
    "print(len(HKname))\n",
    "HKname_v1 = onename[onename.apply(lambda x: x[0] in canton or x[1] in canton)]\n",
    "print(len(HKname_v1))"
   ]
  },
  {
   "cell_type": "code",
   "execution_count": 10,
   "id": "dd913661",
   "metadata": {},
   "outputs": [],
   "source": [
    "MLname = onename[onename.apply(lambda x: x[0] in pinyin)]"
   ]
  },
  {
   "cell_type": "code",
   "execution_count": 33,
   "id": "3f882d84",
   "metadata": {},
   "outputs": [],
   "source": [
    "import numpy as np\n",
    "blur = np.intersect1d(HKname_v1.index, MLname.index)\n",
    "firstpinyin = HKname_v1[blur]"
   ]
  },
  {
   "cell_type": "code",
   "execution_count": 21,
   "id": "d55ed47b",
   "metadata": {},
   "outputs": [],
   "source": [
    "possiblepinyin = firstpinyin[firstpinyin.apply(lambda x: x[1] in pinyin if len(x)==2 else x[1] in pinyin and x[2] in pinyin)]"
   ]
  },
  {
   "cell_type": "code",
   "execution_count": 34,
   "id": "5bb0b150",
   "metadata": {},
   "outputs": [
    {
     "data": {
      "text/plain": [
       "80                                        [HU, JACHIN]\n",
       "102                                    [ZOU, ZHONGHUA]\n",
       "198                                       [YANG, XIAO]\n",
       "275                                    [ZHENG, JINLIN]\n",
       "278                                  [MOU, CHIA, CHUN]\n",
       "                              ...                     \n",
       "2260692                                [HUANG, JIANRU]\n",
       "2260732                                  [LAO, I, MUI]\n",
       "2260753    [LIAO, SHIU, HSING, LUCY, \"ADMINISTRATRIX\"]\n",
       "2260848                         [ZHANG, MIN, ISABELLE]\n",
       "2261079                           [HUANG, HSIEH, LIEN]\n",
       "Name: name, Length: 30175, dtype: object"
      ]
     },
     "execution_count": 34,
     "metadata": {},
     "output_type": "execute_result"
    }
   ],
   "source": [
    "MLname[~MLname.index.isin(blur)]"
   ]
  },
  {
   "cell_type": "code",
   "execution_count": 161,
   "id": "5bc72135",
   "metadata": {},
   "outputs": [],
   "source": [
    "pinyin_unique = list(set(pinyin) - (set(canton) & set(pinyin)))\n",
    "canton_unique = list(set(canton) - (set(canton) & set(pinyin)))"
   ]
  },
  {
   "cell_type": "code",
   "execution_count": 186,
   "id": "84a3111b",
   "metadata": {},
   "outputs": [],
   "source": [
    "def identify(name):\n",
    "    if len(name)==1: return 'unknown'\n",
    "    if len(name)>=2:\n",
    "        if name[0] in last_name_pinyin:\n",
    "            if name[0] not in last_name_canton:\n",
    "                return 'ML'\n",
    "            if name[0] in last_name_canton:\n",
    "                if name[1] in pinyin_unique:\n",
    "                    return 'ML'\n",
    "                elif name[1] in canton:\n",
    "                    return 'HK'\n",
    "                elif len(name)>=3:\n",
    "                    if name[2] in pinyin_unique: return 'HK'\n",
    "                    elif name[2] in canton_unique: return 'ML'\n",
    "                else: return 'ML'\n",
    "                    \n",
    "        elif name[0] in last_name_canton:\n",
    "            return 'HK'\n",
    "        else:\n",
    "            return 'F'"
   ]
  },
  {
   "cell_type": "code",
   "execution_count": 35,
   "id": "ff79c829",
   "metadata": {},
   "outputs": [],
   "source": [
    "#Multiple name list\n",
    "multiname = nameparse[nameparse.apply(lambda x: '&' in x)]"
   ]
  },
  {
   "cell_type": "code",
   "execution_count": 180,
   "id": "218429aa",
   "metadata": {},
   "outputs": [],
   "source": [
    "def countname(a):\n",
    "    count=0\n",
    "    for item in a:\n",
    "        if item == '&':\n",
    "            count+=1\n",
    "    return count\n",
    "\n",
    "counting = nameparse.apply(lambda x: countname(x))"
   ]
  },
  {
   "cell_type": "code",
   "execution_count": 178,
   "id": "4b38d762",
   "metadata": {},
   "outputs": [],
   "source": [
    "def locate(a,n):\n",
    "    count = 0\n",
    "    for i,item in enumerate(a):\n",
    "        if item == '&':\n",
    "            count += 1\n",
    "        if count == n:\n",
    "            return i\n",
    "    if n == 0:\n",
    "        return 0\n",
    "    if n == countname(a):\n",
    "        return len(a)"
   ]
  },
  {
   "cell_type": "code",
   "execution_count": 129,
   "id": "41a45685",
   "metadata": {},
   "outputs": [],
   "source": [
    "def clean(mylist):\n",
    "    i = 1\n",
    "    newlist = []\n",
    "    consecutive = False\n",
    "    for item in mylist:\n",
    "        if item == '&':\n",
    "            if not consecutive:\n",
    "                newlist.append(item)\n",
    "                consecutive = True\n",
    "        else:\n",
    "            newlist.append(item)\n",
    "            consecutive = False\n",
    "    if mylist[-1] == '&':\n",
    "        mylist = mylist[:-1]\n",
    "    return newlist"
   ]
  },
  {
   "cell_type": "code",
   "execution_count": 130,
   "id": "4a53881a",
   "metadata": {},
   "outputs": [],
   "source": [
    "nameparse = nameparse.apply(lambda x: clean(x))"
   ]
  },
  {
   "cell_type": "code",
   "execution_count": 159,
   "id": "04206a35",
   "metadata": {},
   "outputs": [
    {
     "data": {
      "text/plain": [
       "[{'ML'},\n",
       " {'unknown'},\n",
       " {'HK'},\n",
       " {'F'},\n",
       " {'ML', 'unknown'},\n",
       " {'HK', 'ML'},\n",
       " {'F', 'ML'},\n",
       " {'HK', 'unknown'},\n",
       " {'F', 'unknown'},\n",
       " {'F', 'HK'},\n",
       " {'HK', 'ML', 'unknown'},\n",
       " {'F', 'ML', 'unknown'},\n",
       " {'F', 'HK', 'ML'},\n",
       " {'F', 'HK', 'unknown'},\n",
       " {'F', 'HK', 'ML', 'unknown'}]"
      ]
     },
     "execution_count": 159,
     "metadata": {},
     "output_type": "execute_result"
    }
   ],
   "source": [
    "from itertools import chain, combinations\n",
    "\n",
    "def powerset(iterable):\n",
    "    s = list(iterable)\n",
    "    return chain.from_iterable(combinations(s, r+1) for r in range(len(s)))\n",
    "\n",
    "outcome = [set(x) for x in powerset({'HK','ML','F','unknown'})]\n",
    "outcome"
   ]
  },
  {
   "cell_type": "code",
   "execution_count": 187,
   "id": "4e9769f4",
   "metadata": {},
   "outputs": [],
   "source": [
    "#This only works on multiple names.\n",
    "def nameloop(namelist):\n",
    "    namecount = count(namelist) #Notice that here namecount is actually the number of names - 1.\n",
    "    origin = []\n",
    "    for num in range(namecount+1):\n",
    "        name = namelist[locate(namelist,num):locate(namelist,num+1)]\n",
    "        if name[0] == '&':\n",
    "            name = name[1:]\n",
    "        origin.append(identify(name))\n",
    "    origin_set = set(origin)\n",
    "    \n",
    "    for item in outcome:\n",
    "        if item == origin_set:\n",
    "            return item\n",
    "    #Directly return origin_set may incur problem about order of elements."
   ]
  },
  {
   "cell_type": "code",
   "execution_count": 203,
   "id": "3688dc79",
   "metadata": {},
   "outputs": [
    {
     "name": "stdout",
     "output_type": "stream",
     "text": [
      "The code took 26.296685999999966 seconds of CPU time to run.\n"
     ]
    }
   ],
   "source": [
    "import time\n",
    "start_time = time.process_time() # store the start time\n",
    "\n",
    "f = lambda x: identify(x) if countname(x)==0 else None\n",
    "df['tag'] = df['name'].apply(f)\n",
    "        \n",
    "mask = df['tag'].isnull()\n",
    "g = lambda x: nameloop(x) if countname(x)>0 else None\n",
    "df.loc[mask,'tag'] = df['name'].apply(g)\n",
    "\n",
    "end_time = time.process_time() # store the end time\n",
    "print(f\"The code took {end_time - start_time} seconds of CPU time to run.\")\n"
   ]
  },
  {
   "cell_type": "code",
   "execution_count": 204,
   "id": "51ef1e5c",
   "metadata": {},
   "outputs": [
    {
     "data": {
      "text/plain": [
       "1          {HK}\n",
       "5          {HK}\n",
       "6          {HK}\n",
       "8          {HK}\n",
       "9          {HK}\n",
       "           ... \n",
       "2261120    {HK}\n",
       "2261121    {HK}\n",
       "2261122    {HK}\n",
       "2261123    {HK}\n",
       "2261125    {HK}\n",
       "Name: tag, Length: 1239260, dtype: object"
      ]
     },
     "execution_count": 204,
     "metadata": {},
     "output_type": "execute_result"
    }
   ],
   "source": [
    "df.loc[mask,'tag']"
   ]
  },
  {
   "cell_type": "code",
   "execution_count": 205,
   "id": "5d40698e",
   "metadata": {},
   "outputs": [],
   "source": [
    "df.to_csv('df.csv')"
   ]
  },
  {
   "cell_type": "code",
   "execution_count": 183,
   "id": "2f5963f5",
   "metadata": {},
   "outputs": [],
   "source": []
  }
 ],
 "metadata": {
  "kernelspec": {
   "display_name": "Python 3 (ipykernel)",
   "language": "python",
   "name": "python3"
  },
  "language_info": {
   "codemirror_mode": {
    "name": "ipython",
    "version": 3
   },
   "file_extension": ".py",
   "mimetype": "text/x-python",
   "name": "python",
   "nbconvert_exporter": "python",
   "pygments_lexer": "ipython3",
   "version": "3.9.7"
  }
 },
 "nbformat": 4,
 "nbformat_minor": 5
}
