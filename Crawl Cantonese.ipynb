{
 "cells": [
  {
   "cell_type": "code",
   "execution_count": 18,
   "id": "ea7fac29",
   "metadata": {},
   "outputs": [
    {
     "name": "stdout",
     "output_type": "stream",
     "text": [
      "['a', 'au', 'ap', 'baa', 'bing', 'bo', 'cha', 'chan', 'chai', 'chak', 'chap', 'chat', 'chau', 'che', 'chek', 'chen', 'cheng', 'cheong', 'cheuk', 'cheung', 'chi', 'chiang', 'chik', 'chin', 'ching', 'chiu', 'cho', 'choi', 'chong', 'chow', 'choy', 'chu', 'chuen', 'chui', 'chuk', 'chun', 'chung', 'dai', 'dung', 'eu', 'fa', 'fai', 'fan', 'fat', 'fau', 'fei', 'fo', 'fok', 'fong', 'foo', 'foon', 'fook', 'fu', 'fui', 'fuk', 'fung', 'ha', 'hak', 'ham', 'hang', 'hau', 'hay', 'hee', 'hei', 'heng', 'heung', 'hey', 'hi', 'him', 'hin', 'hing', 'hip', 'hiu', 'ho', 'hoi', 'hok', 'hon', 'hong', 'hop', 'how', 'hui', 'huen', 'hung', 'ip', 'jin', 'ka', 'kai', 'kam', 'kan', 'kap', 'kat', 'kau', 'kee', 'kei', 'keng', 'keung', 'ki', 'kik', 'kim', 'kin', 'king', 'kit', 'kiu', 'ko', 'kok', 'kong', 'koo', 'koon', 'ku', 'kuen', 'kui', 'kuk', 'kung', 'kwa', 'kwai', 'kwan', 'kwok', 'kwong', 'kwu', 'kwun', 'lai', 'lam', 'laam', 'lan', 'lap', 'lau', 'law', 'lay', 'lee', 'lei', 'lek', 'leng', 'leung', 'ley', 'li', 'lik', 'lim', 'lin', 'ling', 'lit', 'liu', 'lo', 'lok', 'loong', 'long', 'luan', 'luen', 'lui', 'luk', 'lung', 'ma', 'mak', 'man', 'mei', 'ming', 'mo', 'mok', 'miu', 'mui', 'muk', 'mun', 'mut', 'na', 'nam', 'ng', 'nga', 'ngai', 'ngan', 'ngar', 'ngau', 'ngo', 'nin', 'ning', 'nip', 'nui', 'o', 'oi', 'on', 'ong ', 'pak', 'pat', 'pei', 'ping', 'po', 'poon', 'pong', 'pui', 'pun', 'sai', 'san', 'sang', 'sap', 'see', 'sek', 'sha', 'shan', 'she', 'shen', 'shek', 'sheung', 'shi', 'shim', 'shing', 'shu', 'shue', 'shuen', 'shui', 'shuk', 'shum', 'shun', 'si', 'sin', 'sing', 'sit', 'siu', 'so', 'sok', 'suen', 'sui', 'suk', 'sum', 'sun', 'sung', 'sze', 'tai', 'tak', 'tam', 'tan', 'tang', 'tat', 'tin', 'ting', 'to', 'toi', 'tong', 'tsan', 'tsang', 'tsat', 'tse', 'tso', 'tsoi', 'tsuen', 'tsui', 'tsz', 'tuen', 'tun', 'tung', 'tze', 'un', 'wa', 'wah', 'wai', 'wan', 'wang', 'wat', 'wing', 'wo', 'wong', 'woo', 'wu', 'wui', 'wun', 'yam', 'yan', 'yat', 'yau', 'yee', 'yeung', 'yi', 'yick', 'yik', 'yim', 'yin', 'ying', 'yip', 'yiu', 'yu', 'yun', 'yue', 'yuen', 'yuet', 'yui', 'yuk', 'yung']\n"
     ]
    }
   ],
   "source": [
    "import re\n",
    "import requests\n",
    "from bs4 import BeautifulSoup\n",
    "\n",
    "# URL of the Wikipedia page containing the table\n",
    "url = 'https://zh.wikipedia.org/wiki/%E9%A6%99%E6%B8%AF%E6%94%BF%E5%BA%9C%E7%B2%B5%E8%AA%9E%E6%8B%BC%E9%9F%B3'\n",
    "\n",
    "# Send a GET request to the page\n",
    "response = requests.get(url)\n",
    "\n",
    "# Create a BeautifulSoup object from the page's HTML content\n",
    "soup = BeautifulSoup(response.content, 'html.parser')\n",
    "\n",
    "# Find the table in the page using its class name\n",
    "table = soup.find_all('table', {'class': 'wikitable'})[1]\n",
    "\n",
    "# Find all the rows in the table\n",
    "rows = table.find_all('tr')\n",
    "\n",
    "# Create an empty list to store the first cells of each row\n",
    "first_cells = []\n",
    "\n",
    "# Define a regular expression to match Chinese brackets and their contents\n",
    "pattern = re.compile(r'（.*?）')\n",
    "pattern2=re.compile(r'\\(.*?\\)')\n",
    "\n",
    "# Loop through each row and append the content of the first cell to the list\n",
    "for row in rows:\n",
    "    cells = row.find_all('td')\n",
    "    if len(cells) > 0:\n",
    "        first_cell = cells[0]\n",
    "        # Remove the parts surrounded by Chinese brackets from the text of the first cell\n",
    "        cleaned_text = re.sub(pattern, '', first_cell.text.strip())\n",
    "        cleaned_text = re.sub(pattern2, '', cleaned_text)\n",
    "        first_cells.append(cleaned_text)\n",
    "\n",
    "# Print the list of first cells\n",
    "print(first_cells)\n"
   ]
  }
 ],
 "metadata": {
  "kernelspec": {
   "display_name": "Python 3 (ipykernel)",
   "language": "python",
   "name": "python3"
  },
  "language_info": {
   "codemirror_mode": {
    "name": "ipython",
    "version": 3
   },
   "file_extension": ".py",
   "mimetype": "text/x-python",
   "name": "python",
   "nbconvert_exporter": "python",
   "pygments_lexer": "ipython3",
   "version": "3.9.7"
  }
 },
 "nbformat": 4,
 "nbformat_minor": 5
}
