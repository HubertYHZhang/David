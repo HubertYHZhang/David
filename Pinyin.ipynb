{
 "cells": [
  {
   "cell_type": "code",
   "execution_count": 46,
   "id": "fe39de10",
   "metadata": {},
   "outputs": [
    {
     "name": "stdout",
     "output_type": "stream",
     "text": [
      "Written to file pinyin.txt\n"
     ]
    }
   ],
   "source": [
    "import requests\n",
    "import re\n",
    "from bs4 import BeautifulSoup\n",
    "\n",
    "url = \"https://en.wikipedia.org/wiki/Pinyin_table#cite_note-25\"\n",
    "response = requests.get(url)\n",
    "soup = BeautifulSoup(response.content, \"html.parser\")\n",
    "\n",
    "table = soup.find_all(\"table\")[1] # get the second table on the page\n",
    "rows = table.find_all(\"tr\")\n",
    "\n",
    "original=[]\n",
    "pinyin=[]\n",
    "\n",
    "for row in rows:\n",
    "    cells = row.find_all(\"td\")\n",
    "    for cell in cells:\n",
    "        txt=cell.text.strip()\n",
    "        if txt!=\"\":\n",
    "            original.append(txt)\n",
    "\n",
    "pattern = re.compile(r'\\[.*?\\]')\n",
    "for cell in original:\n",
    "    cell = re.sub(pattern, '', cell)\n",
    "    pinyin.append(cell)\n",
    "\n",
    "\n",
    "for cell in pinyin:\n",
    "    if cell[-1]==\"ü\":\n",
    "        new = cell.replace(\"ü\",\"v\")\n",
    "        pinyin.append(new)\n",
    "    if cell[-2:]==\"üe\":\n",
    "        new = cell.replace(\"üe\",\"ue\")\n",
    "        pinyin.append(new)\n",
    "\n",
    "        \n",
    "output = [cell.upper() for cell in pinyin]   \n",
    "\n",
    "with open('pinyin.txt','w',encoding='utf-8') as file:\n",
    "    for cell in output:\n",
    "        file.write(str(cell)+'\\n')\n",
    "     \n",
    "\n",
    "print('Written two file pinyin.txt')"
   ]
  }
 ],
 "metadata": {
  "kernelspec": {
   "display_name": "Python 3 (ipykernel)",
   "language": "python",
   "name": "python3"
  },
  "language_info": {
   "codemirror_mode": {
    "name": "ipython",
    "version": 3
   },
   "file_extension": ".py",
   "mimetype": "text/x-python",
   "name": "python",
   "nbconvert_exporter": "python",
   "pygments_lexer": "ipython3",
   "version": "3.9.7"
  }
 },
 "nbformat": 4,
 "nbformat_minor": 5
}
