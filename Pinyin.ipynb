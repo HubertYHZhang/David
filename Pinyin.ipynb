{
 "cells": [
  {
   "cell_type": "code",
   "execution_count": 26,
   "id": "4f3877b9",
   "metadata": {},
   "outputs": [
    {
     "name": "stdout",
     "output_type": "stream",
     "text": [
      "['zhi', 'chi', 'shi', 'ri', 'zi', 'ci', 'si', 'a', 'ba', 'pa', 'ma', 'fa', 'da', 'ta', 'na', 'la', 'ga[note 1]', 'ka', 'ha', 'zha', 'cha', 'sha', 'za', 'ca', 'sa', 'o[note 2]', 'bo', 'po', 'mo', 'fo', 'lo[note 3]', 'e', 'me[note 4]', 'de', 'te', 'ne', 'le', 'ge', 'ke', 'he', 'zhe', 'che', 'she', 're', 'ze', 'ce', 'se', 'ê[note 5]', 'ai', 'bai', 'pai', 'mai', 'dai', 'tai', 'nai', 'lai', 'gai', 'kai', 'hai', 'zhai', 'chai', 'shai', 'zai', 'cai', 'sai', 'ei[note 6]', 'bei', 'pei', 'mei', 'fei', 'dei[note 7]', 'tei[note 8]', 'nei', 'lei', 'gei', 'kei[note 9][table 1]', 'hei', 'zhei[note 10]', 'shei', 'zei', 'cei[note 11]', 'sei[note 12] [table 1]', 'ao', 'bao', 'pao', 'mao', 'dao', 'tao', 'nao', 'lao', 'gao', 'kao', 'hao', 'zhao', 'chao', 'shao', 'rao', 'zao', 'cao', 'sao', 'ou', 'pou[note 13]', 'mou', 'fou', 'dou', 'tou', 'nou[note 14]', 'lou', 'gou', 'kou', 'hou', 'zhou', 'chou', 'shou', 'rou', 'zou', 'cou', 'sou', 'an', 'ban', 'pan', 'man', 'fan', 'dan', 'tan', 'nan', 'lan', 'gan', 'kan', 'han', 'zhan', 'chan', 'shan', 'ran', 'zan', 'can', 'san', 'en', 'ben', 'pen', 'men', 'fen', 'den[note 15]', 'nen', 'gen', 'ken', 'hen', 'zhen', 'chen', 'shen', 'ren', 'zen[note 16]', 'cen', 'sen', 'ang', 'bang', 'pang', 'mang', 'fang', 'dang', 'tang', 'nang', 'lang', 'gang', 'kang', 'hang', 'zhang', 'chang', 'shang', 'rang', 'zang', 'cang', 'sang', 'eng[note 17]', 'beng', 'peng', 'meng', 'feng', 'deng', 'teng', 'neng', 'leng', 'geng', 'keng', 'heng', 'zheng', 'cheng', 'sheng', 'reng', 'zeng', 'ceng', 'seng', 'dong', 'tong', 'nong', 'long', 'gong', 'kong', 'hong', 'zhong', 'chong', 'rong', 'zong', 'cong', 'song', 'er', 'yi', 'bi', 'pi', 'mi', 'di', 'ti', 'ni', 'li', 'ji', 'qi', 'xi', 'ya', 'pia[note 18]', 'dia[note 19]', 'nia[note 20] [table 1]', 'lia[note 21]', 'jia', 'qia', 'xia', 'yo[note 22]', 'ye', 'bie', 'pie', 'mie', 'die', 'tie', 'nie', 'lie', 'jie', 'qie', 'xie', 'yai[note 23] [table 1]', 'yao', 'biao', 'piao', 'miao', 'fiao[note 24]', 'diao', 'tiao', 'niao', 'liao', 'jiao', 'qiao', 'xiao', 'you', 'miu[note 25]', 'diu', 'niu', 'liu', 'kiu[note 26]', 'jiu', 'qiu', 'xiu', 'yan', 'bian', 'pian', 'mian', 'dian', 'tian', 'nian', 'lian', 'jian', 'qian', 'xian', 'yin', 'bin', 'pin', 'min', 'nin', 'lin', 'jin', 'qin', 'xin', 'yang', 'biang[note 27]', 'diang[note 28] [table 1]', 'niang', 'liang', 'jiang', 'qiang', 'xiang', 'ying', 'bing', 'ping', 'ming', 'ding', 'ting', 'ning', 'ling', 'jing', 'qing', 'xing', 'yong', 'jiong[note 29]', 'qiong', 'xiong', 'wu', 'bu', 'pu', 'mu', 'fu', 'du', 'tu', 'nu', 'lu', 'gu', 'ku', 'hu', 'zhu', 'chu', 'shu', 'ru', 'zu', 'cu', 'su', 'wa', 'gua', 'kua', 'hua', 'zhua', 'chua[note 30]', 'shua', 'rua[note 31]', 'wo', 'duo', 'tuo', 'nuo', 'luo', 'guo', 'kuo', 'huo', 'zhuo', 'chuo', 'shuo', 'ruo', 'zuo', 'cuo', 'suo', 'wai', 'guai', 'kuai', 'huai', 'zhuai[note 32]', 'chuai[note 33]', 'shuai', 'wei', 'dui', 'tui', 'gui', 'kui', 'hui', 'zhui', 'chui', 'shui', 'rui', 'zui', 'cui', 'sui', 'wan', 'duan', 'tuan', 'nuan', 'luan', 'guan', 'kuan', 'huan', 'zhuan', 'chuan', 'shuan', 'ruan', 'zuan', 'cuan', 'suan', 'wen', 'dun', 'tun', 'nun[note 34]', 'lun', 'gun', 'kun', 'hun', 'zhun', 'chun', 'shun', 'run', 'zun', 'cun', 'sun', 'wang', 'duang[note 35]', 'guang', 'kuang', 'huang', 'zhuang', 'chuang', 'shuang', 'weng', 'yu', 'nü', 'lü', 'ju', 'qu', 'xu', 'yue', 'nüe', 'lüe', 'jue', 'que', 'xue', 'yuan', 'lüan[note 36][table 1]', 'juan', 'quan', 'xuan', 'yun', 'lün[note 37]', 'jun', 'qun', 'xun']\n"
     ]
    },
    {
     "data": {
      "text/plain": [
       "425"
      ]
     },
     "execution_count": 26,
     "metadata": {},
     "output_type": "execute_result"
    }
   ],
   "source": [
    "import requests\n",
    "from bs4 import BeautifulSoup\n",
    "\n",
    "url = \"https://en.wikipedia.org/wiki/Pinyin_table#cite_note-25\"\n",
    "response = requests.get(url)\n",
    "soup = BeautifulSoup(response.content, \"html.parser\")\n",
    "\n",
    "table = soup.find_all(\"table\")[1] # get the second table on the page\n",
    "rows = table.find_all(\"tr\")\n",
    "\n",
    "pinyin=[]\n",
    "\n",
    "for row in rows:\n",
    "    cells = row.find_all(\"td\")\n",
    "    for cell in cells:\n",
    "        txt=cell.text.strip()\n",
    "        if txt!=\"\":\n",
    "            pinyin.append(txt)\n",
    "print(pinyin)\n",
    "len(pinyin)"
   ]
  }
 ],
 "metadata": {
  "kernelspec": {
   "display_name": "Python 3 (ipykernel)",
   "language": "python",
   "name": "python3"
  },
  "language_info": {
   "codemirror_mode": {
    "name": "ipython",
    "version": 3
   },
   "file_extension": ".py",
   "mimetype": "text/x-python",
   "name": "python",
   "nbconvert_exporter": "python",
   "pygments_lexer": "ipython3",
   "version": "3.9.7"
  }
 },
 "nbformat": 4,
 "nbformat_minor": 5
}
