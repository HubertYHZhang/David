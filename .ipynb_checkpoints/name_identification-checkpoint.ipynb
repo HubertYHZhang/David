{
 "cells": [
  {
   "cell_type": "code",
   "execution_count": 154,
   "id": "c2034cd6",
   "metadata": {},
   "outputs": [],
   "source": [
    "import pandas as pd\n",
    "\n",
    "namedf=pd.read_csv('/Users/hubertcheung/Downloads/temp.csv')\n",
    "namedf=namedf.dropna()"
   ]
  },
  {
   "cell_type": "code",
   "execution_count": 155,
   "id": "183fc4d3",
   "metadata": {},
   "outputs": [],
   "source": [
    "nameparse=namedf['name'].str.split()"
   ]
  },
  {
   "cell_type": "code",
   "execution_count": 156,
   "id": "2c90476b",
   "metadata": {},
   "outputs": [
    {
     "data": {
      "text/plain": [
       "1          [LEE, WAI, HONG, &, NGAN, TIK, HAN, NDIYA, (JT)]\n",
       "2                                         [CHAN, WAI, LUEN]\n",
       "4                                    [LI, YEE, LIN, ELAINE]\n",
       "5                  [CHU, MING, WAH, &, YU, LAI, PING, (JT)]\n",
       "6                  [CHU, PO, LUN, &, LAU, SHUK, MING, (JT)]\n",
       "                                 ...                       \n",
       "2261121            [LIU, WING, KAI, &, LO, LAI, YING, (JT)]\n",
       "2261122        [LEUNG, TIM, &, LEUNG, CHIM, YAN, IDY, (JT)]\n",
       "2261123         [MOK, KANG, MING, &, LEE, CHI, CHING, (JT)]\n",
       "2261124                                 [HAU, SIU, PO, 1/2]\n",
       "2261125           [NG, KATHERINE, &, LI, CHOR, KEUNG, (JT)]\n",
       "Name: name, Length: 2030377, dtype: object"
      ]
     },
     "execution_count": 156,
     "metadata": {},
     "output_type": "execute_result"
    }
   ],
   "source": [
    "nameparse = nameparse[nameparse.apply(lambda x: (isinstance(x, list) and len(x)>0))]\n",
    "nameparse = nameparse[nameparse.apply(lambda x: 'LTD' not in x)]\n",
    "nameparse"
   ]
  },
  {
   "cell_type": "code",
   "execution_count": 157,
   "id": "17a4e70e",
   "metadata": {},
   "outputs": [],
   "source": [
    "with open('canton.txt', 'r', encoding='utf-8') as file:\n",
    "    lines = file.readlines()\n",
    "\n",
    "canton = [line.strip() for line in lines]"
   ]
  },
  {
   "cell_type": "code",
   "execution_count": 158,
   "id": "34f9039e",
   "metadata": {},
   "outputs": [],
   "source": [
    "onename = nameparse[nameparse.astype(str).apply(lambda x: '&' not in x)]"
   ]
  },
  {
   "cell_type": "code",
   "execution_count": 159,
   "id": "51d2f233",
   "metadata": {},
   "outputs": [],
   "source": [
    "#Those with only one element are weird and should be picked out\n",
    "singleelement = onename[onename.apply(lambda x:len(x)==1)]\n",
    "onename = onename[onename.apply(lambda x:len(x)!=1)]"
   ]
  },
  {
   "cell_type": "code",
   "execution_count": 176,
   "id": "b75ed75a",
   "metadata": {},
   "outputs": [
    {
     "name": "stdout",
     "output_type": "stream",
     "text": [
      "675722\n",
      "723765\n"
     ]
    }
   ],
   "source": [
    "HKname_v1 = onename[onename.apply(lambda x: x[0] in canton)]\n",
    "HKname_v2 = onename[onename.apply(lambda x: x[0] in canton or x[1] in canton)]\n",
    "print(len(HKname_v1))\n",
    "print(len(HKname_v2))"
   ]
  },
  {
   "cell_type": "code",
   "execution_count": 178,
   "id": "d03e9168",
   "metadata": {},
   "outputs": [
    {
     "data": {
      "text/plain": [
       "7                    [KERK, CHUN, LUNG]\n",
       "142                   [CHAO, WAN, PING]\n",
       "182              [PAU, WAI, LUN, WILLY]\n",
       "217                [MAU, KIT, YU, ELLY]\n",
       "297                    [YONG, WAI, NAM]\n",
       "                       ...             \n",
       "2260837      [YOUNG, CHIU, YIN, EDWARD]\n",
       "2260875               [NGOK, WING, SEE]\n",
       "2260942         [KAHN, CHUN, KUEN, 1/2]\n",
       "2260958    [HAI, YIP, KUEN, EDDIE, 1/2]\n",
       "2261034                  [OR, YI, LING]\n",
       "Name: name, Length: 48043, dtype: object"
      ]
     },
     "execution_count": 178,
     "metadata": {},
     "output_type": "execute_result"
    }
   ],
   "source": [
    "weird = onename[onename.apply(lambda x: x[0] not in canton and x[1] in canton)]\n",
    "weird"
   ]
  },
  {
   "cell_type": "code",
   "execution_count": 161,
   "id": "eacbe76f",
   "metadata": {},
   "outputs": [
    {
     "data": {
      "text/plain": [
       "50         [RICHARDSON, DAVID, CHANNING]\n",
       "80                          [HU, JACHIN]\n",
       "102                      [ZOU, ZHONGHUA]\n",
       "104                       [SHIH, PHILIP]\n",
       "146                       [BURHAN, URAY]\n",
       "                       ...              \n",
       "2260848           [ZHANG, MIN, ISABELLE]\n",
       "2260935               [LEONG, BUT, YING]\n",
       "2261066       [CHARLTON, TIMOTHY, JAMES]\n",
       "2261079             [HUANG, HSIEH, LIEN]\n",
       "2261099                 [INAGAWA, KAZUO]\n",
       "Name: name, Length: 75396, dtype: object"
      ]
     },
     "execution_count": 161,
     "metadata": {},
     "output_type": "execute_result"
    }
   ],
   "source": [
    "notHKname = onename[~onename.apply(lambda x: x[0] in canton or x[1] in canton)]\n",
    "notHKname"
   ]
  },
  {
   "cell_type": "code",
   "execution_count": 101,
   "id": "dbf64b47",
   "metadata": {},
   "outputs": [],
   "source": [
    "notHKname_df = notHKname.to_frame()\n",
    "notHKname_df.to_csv('notHKname.csv')"
   ]
  },
  {
   "cell_type": "code",
   "execution_count": 114,
   "id": "0a674640",
   "metadata": {},
   "outputs": [
    {
     "name": "stdout",
     "output_type": "stream",
     "text": [
      "['ZHI', 'CHI', 'SHI', 'RI', 'ZI', 'CI', 'SI', 'A', 'BA', 'PA', 'MA', 'FA', 'DA', 'TA', 'NA', 'LA', 'GA', 'KA', 'HA', 'ZHA', 'CHA', 'SHA', 'ZA', 'CA', 'SA', 'O', 'BO', 'PO', 'MO', 'FO', 'LO', 'E', 'ME', 'DE', 'TE', 'NE', 'LE', 'GE', 'KE', 'HE', 'ZHE', 'CHE', 'SHE', 'RE', 'ZE', 'CE', 'SE', 'Ê', 'AI', 'BAI', 'PAI', 'MAI', 'DAI', 'TAI', 'NAI', 'LAI', 'GAI', 'KAI', 'HAI', 'ZHAI', 'CHAI', 'SHAI', 'ZAI', 'CAI', 'SAI', 'EI', 'BEI', 'PEI', 'MEI', 'FEI', 'DEI', 'TEI', 'NEI', 'LEI', 'GEI', 'KEI', 'HEI', 'ZHEI', 'SHEI', 'ZEI', 'CEI', 'SEI', 'AO', 'BAO', 'PAO', 'MAO', 'DAO', 'TAO', 'NAO', 'LAO', 'GAO', 'KAO', 'HAO', 'ZHAO', 'CHAO', 'SHAO', 'RAO', 'ZAO', 'CAO', 'SAO', 'OU', 'POU', 'MOU', 'FOU', 'DOU', 'TOU', 'NOU', 'LOU', 'GOU', 'KOU', 'HOU', 'ZHOU', 'CHOU', 'SHOU', 'ROU', 'ZOU', 'COU', 'SOU', 'AN', 'BAN', 'PAN', 'MAN', 'FAN', 'DAN', 'TAN', 'NAN', 'LAN', 'GAN', 'KAN', 'HAN', 'ZHAN', 'CHAN', 'SHAN', 'RAN', 'ZAN', 'CAN', 'SAN', 'EN', 'BEN', 'PEN', 'MEN', 'FEN', 'DEN', 'NEN', 'GEN', 'KEN', 'HEN', 'ZHEN', 'CHEN', 'SHEN', 'REN', 'ZEN', 'CEN', 'SEN', 'ANG', 'BANG', 'PANG', 'MANG', 'FANG', 'DANG', 'TANG', 'NANG', 'LANG', 'GANG', 'KANG', 'HANG', 'ZHANG', 'CHANG', 'SHANG', 'RANG', 'ZANG', 'CANG', 'SANG', 'ENG', 'BENG', 'PENG', 'MENG', 'FENG', 'DENG', 'TENG', 'NENG', 'LENG', 'GENG', 'KENG', 'HENG', 'ZHENG', 'CHENG', 'SHENG', 'RENG', 'ZENG', 'CENG', 'SENG', 'DONG', 'TONG', 'NONG', 'LONG', 'GONG', 'KONG', 'HONG', 'ZHONG', 'CHONG', 'RONG', 'ZONG', 'CONG', 'SONG', 'ER', 'YI', 'BI', 'PI', 'MI', 'DI', 'TI', 'NI', 'LI', 'JI', 'QI', 'XI', 'YA', 'PIA', 'DIA', 'NIA', 'LIA', 'JIA', 'QIA', 'XIA', 'YO', 'YE', 'BIE', 'PIE', 'MIE', 'DIE', 'TIE', 'NIE', 'LIE', 'JIE', 'QIE', 'XIE', 'YAI', 'YAO', 'BIAO', 'PIAO', 'MIAO', 'FIAO', 'DIAO', 'TIAO', 'NIAO', 'LIAO', 'JIAO', 'QIAO', 'XIAO', 'YOU', 'MIU', 'DIU', 'NIU', 'LIU', 'KIU', 'JIU', 'QIU', 'XIU', 'YAN', 'BIAN', 'PIAN', 'MIAN', 'DIAN', 'TIAN', 'NIAN', 'LIAN', 'JIAN', 'QIAN', 'XIAN', 'YIN', 'BIN', 'PIN', 'MIN', 'NIN', 'LIN', 'JIN', 'QIN', 'XIN', 'YANG', 'BIANG', 'DIANG', 'NIANG', 'LIANG', 'JIANG', 'QIANG', 'XIANG', 'YING', 'BING', 'PING', 'MING', 'DING', 'TING', 'NING', 'LING', 'JING', 'QING', 'XING', 'YONG', 'JIONG', 'QIONG', 'XIONG', 'WU', 'BU', 'PU', 'MU', 'FU', 'DU', 'TU', 'NU', 'LU', 'GU', 'KU', 'HU', 'ZHU', 'CHU', 'SHU', 'RU', 'ZU', 'CU', 'SU', 'WA', 'GUA', 'KUA', 'HUA', 'ZHUA', 'CHUA', 'SHUA', 'RUA', 'WO', 'DUO', 'TUO', 'NUO', 'LUO', 'GUO', 'KUO', 'HUO', 'ZHUO', 'CHUO', 'SHUO', 'RUO', 'ZUO', 'CUO', 'SUO', 'WAI', 'GUAI', 'KUAI', 'HUAI', 'ZHUAI', 'CHUAI', 'SHUAI', 'WEI', 'DUI', 'TUI', 'GUI', 'KUI', 'HUI', 'ZHUI', 'CHUI', 'SHUI', 'RUI', 'ZUI', 'CUI', 'SUI', 'WAN', 'DUAN', 'TUAN', 'NUAN', 'LUAN', 'GUAN', 'KUAN', 'HUAN', 'ZHUAN', 'CHUAN', 'SHUAN', 'RUAN', 'ZUAN', 'CUAN', 'SUAN', 'WEN', 'DUN', 'TUN', 'NUN', 'LUN', 'GUN', 'KUN', 'HUN', 'ZHUN', 'CHUN', 'SHUN', 'RUN', 'ZUN', 'CUN', 'SUN', 'WANG', 'DUANG', 'GUANG', 'KUANG', 'HUANG', 'ZHUANG', 'CHUANG', 'SHUANG', 'WENG', 'YU', 'NÜ', 'LÜ', 'JU', 'QU', 'XU', 'YUE', 'NÜE', 'LÜE', 'JUE', 'QUE', 'XUE', 'YUAN', 'LÜAN', 'JUAN', 'QUAN', 'XUAN', 'YUN', 'LÜN', 'JUN', 'QUN', 'XUN', 'NV', 'LV', 'NUE', 'LUE']\n"
     ]
    }
   ],
   "source": [
    "with open('pinyin.txt','r',encoding='utf-8') as file:\n",
    "    lines=file.readlines()\n",
    "\n",
    "pinyin = [line.strip() for line in lines]\n",
    "print(pinyin)"
   ]
  },
  {
   "cell_type": "code",
   "execution_count": 166,
   "id": "3d273b2b",
   "metadata": {},
   "outputs": [
    {
     "name": "stdout",
     "output_type": "stream",
     "text": [
      "['KU', 'WANG', 'YU', 'MING', 'KAI', 'KUI', 'YUE', 'YIN', 'CHU', 'CHENG', 'O', 'SHU', 'SHE', 'WU', 'LEI', 'LI', 'LO', 'TONG', 'BO', 'CHEN', 'WA', 'HANG', 'SAI', 'TING', 'KAN', 'HENG', 'SAN', 'MEI', 'CHONG', 'YI', 'FAN', 'WAN', 'CHE', 'PING', 'LIN', 'SHUI', 'SHEN', 'MO', 'PEI', 'TANG', 'HEI', 'MA', 'CHUN', 'NING', 'BING', 'PO', 'FU', 'LING', 'SHA', 'LAI', 'KONG', 'DAI', 'NIN', 'SUI', 'SANG', 'KEI', 'SI', 'MAN', 'KIU', 'HUI', 'FEI', 'LAN', 'KA', 'WO', 'FO', 'CHI', 'LUAN', 'TUN', 'NA', 'MIU', 'CHUI', 'YUN', 'CHAN', 'SHUN', 'TAN', 'SUN', 'HONG', 'CHA', 'JIN', 'SHAN', 'A', 'LONG', 'SHI', 'LIU', 'KENG', 'CHAI', 'LENG', 'YAN', 'TAI', 'YING', 'WAI', 'FA', 'HA']\n"
     ]
    }
   ],
   "source": [
    "intersect = list(set(canton) & set(pinyin))\n",
    "print(intersect)"
   ]
  },
  {
   "cell_type": "code",
   "execution_count": 167,
   "id": "e70472c3",
   "metadata": {},
   "outputs": [
    {
     "data": {
      "text/plain": [
       "2                   [CHAN, WAI, LUEN]\n",
       "27                    [CHU, MAN, KIU]\n",
       "51                   [KONG, MEI, LIN]\n",
       "57             [CHAN, CHUI, OI, TEEP]\n",
       "69         [CHAN, CHI, HUNG, RICHARD]\n",
       "                      ...            \n",
       "2260970               [LAI, SAI, CHI]\n",
       "2261018               [YU, CHAI, MEI]\n",
       "2261025                [KAN, LAI, OR]\n",
       "2261045               [LIN, MAN, YUN]\n",
       "2261109           [MA, KA, WING, 1/3]\n",
       "Name: name, Length: 69704, dtype: object"
      ]
     },
     "execution_count": 167,
     "metadata": {},
     "output_type": "execute_result"
    }
   ],
   "source": [
    "HKname[HKname.apply(lambda x: x[0] in intersect and x[1] in intersect)]"
   ]
  },
  {
   "cell_type": "code",
   "execution_count": null,
   "id": "e4cdedab",
   "metadata": {},
   "outputs": [],
   "source": [
    "MLname = onename[onename.apply(lambda x: x[0] in pinyin)]"
   ]
  }
 ],
 "metadata": {
  "kernelspec": {
   "display_name": "Python 3 (ipykernel)",
   "language": "python",
   "name": "python3"
  },
  "language_info": {
   "codemirror_mode": {
    "name": "ipython",
    "version": 3
   },
   "file_extension": ".py",
   "mimetype": "text/x-python",
   "name": "python",
   "nbconvert_exporter": "python",
   "pygments_lexer": "ipython3",
   "version": "3.9.7"
  }
 },
 "nbformat": 4,
 "nbformat_minor": 5
}
