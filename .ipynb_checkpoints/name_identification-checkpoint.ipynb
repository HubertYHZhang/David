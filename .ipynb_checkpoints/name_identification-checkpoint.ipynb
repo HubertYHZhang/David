{
 "cells": [
  {
   "cell_type": "code",
   "execution_count": 2,
   "id": "c2034cd6",
   "metadata": {},
   "outputs": [],
   "source": [
    "import pandas as pd\n",
    "\n",
    "namedf=pd.read_csv('/Users/hubertcheung/Downloads/temp.csv')"
   ]
  },
  {
   "cell_type": "code",
   "execution_count": 74,
   "id": "183fc4d3",
   "metadata": {},
   "outputs": [
    {
     "name": "stdout",
     "output_type": "stream",
     "text": [
      "0                           [TOHKAI, THERMO, (HK), CO, LTD]\n",
      "1          [LEE, WAI, HONG, &, NGAN, TIK, HAN, NDIYA, (JT)]\n",
      "2                                         [CHAN, WAI, LUEN]\n",
      "3                                       [LAP, WIN, CO, LTD]\n",
      "4                                    [LI, YEE, LIN, ELAINE]\n",
      "                                 ...                       \n",
      "2261121            [LIU, WING, KAI, &, LO, LAI, YING, (JT)]\n",
      "2261122        [LEUNG, TIM, &, LEUNG, CHIM, YAN, IDY, (JT)]\n",
      "2261123         [MOK, KANG, MING, &, LEE, CHI, CHING, (JT)]\n",
      "2261124                                 [HAU, SIU, PO, 1/2]\n",
      "2261125           [NG, KATHERINE, &, LI, CHOR, KEUNG, (JT)]\n",
      "Name: name, Length: 2261126, dtype: object\n"
     ]
    }
   ],
   "source": [
    "nameparse=namedf['name'].str.split()\n",
    "print(nameparse)"
   ]
  },
  {
   "cell_type": "code",
   "execution_count": 78,
   "id": "d2f50658",
   "metadata": {},
   "outputs": [
    {
     "data": {
      "text/plain": [
       "1          [LEE, WAI, HONG, &, NGAN, TIK, HAN, NDIYA, (JT)]\n",
       "2                                         [CHAN, WAI, LUEN]\n",
       "4                                    [LI, YEE, LIN, ELAINE]\n",
       "5                  [CHU, MING, WAH, &, YU, LAI, PING, (JT)]\n",
       "6                  [CHU, PO, LUN, &, LAU, SHUK, MING, (JT)]\n",
       "                                 ...                       \n",
       "2261121            [LIU, WING, KAI, &, LO, LAI, YING, (JT)]\n",
       "2261122        [LEUNG, TIM, &, LEUNG, CHIM, YAN, IDY, (JT)]\n",
       "2261123         [MOK, KANG, MING, &, LEE, CHI, CHING, (JT)]\n",
       "2261124                                 [HAU, SIU, PO, 1/2]\n",
       "2261125           [NG, KATHERINE, &, LI, CHOR, KEUNG, (JT)]\n",
       "Name: name, Length: 2033466, dtype: object"
      ]
     },
     "execution_count": 78,
     "metadata": {},
     "output_type": "execute_result"
    }
   ],
   "source": [
    "nameparse = nameparse[nameparse.apply(lambda x: (isinstance(x, list) and len(x)>0 and x[-1] != 'LTD'))]\n",
    "nameparse"
   ]
  },
  {
   "cell_type": "code",
   "execution_count": 26,
   "id": "8c16c224",
   "metadata": {},
   "outputs": [],
   "source": [
    "with open('output.txt', 'r', encoding='utf-8') as file:\n",
    "    lines = file.readlines()\n",
    "\n",
    "canton = [line.strip() for line in lines]"
   ]
  },
  {
   "cell_type": "code",
   "execution_count": 80,
   "id": "206ddf3b",
   "metadata": {},
   "outputs": [],
   "source": [
    "onename = nameparse[nameparse.astype(str).apply(lambda x: '&' not in x)]"
   ]
  },
  {
   "cell_type": "code",
   "execution_count": 86,
   "id": "a636031a",
   "metadata": {},
   "outputs": [],
   "source": [
    "#Those with only one element is weird and should be picked out\n",
    "singleelement = onename[onename.apply(lambda x:len(x)==1)]\n",
    "onename = onename[onename.apply(lambda x:len(x)!=1)]"
   ]
  },
  {
   "cell_type": "code",
   "execution_count": 88,
   "id": "2e0e04ab",
   "metadata": {},
   "outputs": [
    {
     "data": {
      "text/plain": [
       "2                  [CHAN, WAI, LUEN]\n",
       "4             [LI, YEE, LIN, ELAINE]\n",
       "10                  [CHOW, YUK, LAM]\n",
       "11                [CHEUNG, HON, MAN]\n",
       "14         [SHING, YUK, YIN, SANDRA]\n",
       "                     ...            \n",
       "2261109          [MA, KA, WING, 1/3]\n",
       "2261110            [CHAN, CHOI, PIK]\n",
       "2261113         [WU, KWAN, KIN, KEN]\n",
       "2261117                   [WOO, KIN]\n",
       "2261124          [HAU, SIU, PO, 1/2]\n",
       "Name: name, Length: 554853, dtype: object"
      ]
     },
     "execution_count": 88,
     "metadata": {},
     "output_type": "execute_result"
    }
   ],
   "source": [
    "HKname = onename[onename.apply(lambda x: x[0] in canton or x[1] in canton)]\n",
    "HKname"
   ]
  },
  {
   "cell_type": "code",
   "execution_count": 92,
   "id": "c861c8c8",
   "metadata": {},
   "outputs": [
    {
     "data": {
      "text/plain": [
       "7                     [KERK, CHUN, LUNG]\n",
       "30                      [WAN, SHIU, KAN]\n",
       "50         [RICHARDSON, DAVID, CHANNING]\n",
       "80                          [HU, JACHIN]\n",
       "91                      [CHUNG, PIK, HA]\n",
       "                       ...              \n",
       "2261065                [CHEN, CHIN-CHIH]\n",
       "2261066       [CHARLTON, TIMOTHY, JAMES]\n",
       "2261079             [HUANG, HSIEH, LIEN]\n",
       "2261080                   [NG, MI, YING]\n",
       "2261099                 [INAGAWA, KAZUO]\n",
       "Name: name, Length: 245140, dtype: object"
      ]
     },
     "execution_count": 92,
     "metadata": {},
     "output_type": "execute_result"
    }
   ],
   "source": [
    "notHKname = onename[~onename.apply(lambda x: x[0] in canton and x[1] in canton)]\n",
    "notHKname"
   ]
  }
 ],
 "metadata": {
  "kernelspec": {
   "display_name": "Python 3 (ipykernel)",
   "language": "python",
   "name": "python3"
  },
  "language_info": {
   "codemirror_mode": {
    "name": "ipython",
    "version": 3
   },
   "file_extension": ".py",
   "mimetype": "text/x-python",
   "name": "python",
   "nbconvert_exporter": "python",
   "pygments_lexer": "ipython3",
   "version": "3.9.7"
  }
 },
 "nbformat": 4,
 "nbformat_minor": 5
}
