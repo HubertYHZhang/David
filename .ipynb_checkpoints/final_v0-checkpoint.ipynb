{
 "cells": [
  {
   "cell_type": "code",
   "execution_count": null,
   "id": "ab136b11",
   "metadata": {},
   "outputs": [],
   "source": [
    "import pandas as pd\n",
    "\n",
    "names=pd.read_csv('/Users/hubertcheung/Downloads/temp.csv')\n",
    "names=names.dropna()\n",
    "nameparse=names['name'].str.split()\n",
    "\n",
    "nameparse = nameparse[nameparse.apply(lambda x: (isinstance(x, list) and len(x)>0))] #make sure it's a list\n",
    "nameparse = nameparse[nameparse.apply(lambda x: 'LTD' not in x or 'COLTD' not in x)] #LTD should be dropped. There are also other forms and will be found out later.\n",
    "nameparse"
   ]
  },
  {
   "cell_type": "code",
   "execution_count": null,
   "id": "98cbea58",
   "metadata": {},
   "outputs": [],
   "source": [
    "with open('canton.txt', 'r', encoding='utf-8') as file:\n",
    "    lines = file.readlines()\n",
    "\n",
    "canton = [line.strip() for line in lines]\n",
    "\n",
    "with open('pinyin.txt','r',encoding='utf-8') as file:\n",
    "    lines=file.readlines()\n",
    "\n",
    "pinyin = [line.strip() for line in lines]"
   ]
  },
  {
   "cell_type": "code",
   "execution_count": null,
   "id": "941bc8c0",
   "metadata": {},
   "outputs": [],
   "source": [
    "def identify(name):\n",
    "    return 'HK' #To be put in later"
   ]
  },
  {
   "cell_type": "code",
   "execution_count": null,
   "id": "2c5cee82",
   "metadata": {},
   "outputs": [],
   "source": [
    "def clean(mylist): #Clean the 'others'. Clean the repetitive &s and the &s at the end.\n",
    "    newlist = []\n",
    "    consecutive = False\n",
    "    \n",
    "    for item in mylist:\n",
    "        if item == '&':\n",
    "            if not consecutive:\n",
    "                newlist.append(item)\n",
    "                consecutive = True\n",
    "        else:\n",
    "            newlist.append(item)\n",
    "            consecutive = False\n",
    "    if mylist[-1] == '&':\n",
    "        mylist = mylist[:-1]\n",
    "    return newlist"
   ]
  },
  {
   "cell_type": "code",
   "execution_count": null,
   "id": "f3f5b354",
   "metadata": {},
   "outputs": [],
   "source": [
    "nameparse = nameparse.apply(lambda x: clean(x))\n",
    "\n",
    "df = pd.DataFrame(nameparse)"
   ]
  },
  {
   "cell_type": "code",
   "execution_count": null,
   "id": "88abeaaf",
   "metadata": {},
   "outputs": [],
   "source": [
    "def count(a): #counting names\n",
    "    count=0\n",
    "    for item in a:\n",
    "        if item == '&':\n",
    "            count+=1\n",
    "    return count\n",
    "\n",
    "counting = nameparse.apply(lambda x: count(x))"
   ]
  },
  {
   "cell_type": "code",
   "execution_count": null,
   "id": "c59614cb",
   "metadata": {},
   "outputs": [],
   "source": [
    "def locate(a,n): #locate the n-th & in the list \n",
    "    count = 0\n",
    "    for i,item in enumerate(a):\n",
    "        if item == '&':\n",
    "            count += 1\n",
    "        if count == n:\n",
    "            return i\n",
    "    if n == 0:\n",
    "        return 0\n",
    "    if n == count(a):\n",
    "        return len(a)"
   ]
  },
  {
   "cell_type": "code",
   "execution_count": null,
   "id": "40561832",
   "metadata": {},
   "outputs": [],
   "source": [
    "#This only works on multiple names.\n",
    "def nameloop(namelist):\n",
    "    namecount = count(namelist) #Notice that here namecount is actually the number of names - 1.\n",
    "    origin = []\n",
    "    for num in range(namecount):\n",
    "        name = namelist[locate(namelist,num):locate(namelist,num+1)]\n",
    "        if name[0] == '&':\n",
    "            name = name[1:]\n",
    "        origin.append(identify(name))\n",
    "    check1 = {'HK','ML','F'}\n",
    "    check2 = {'HK','ML'}\n",
    "    check3 = {'HK','F'}\n",
    "    check4 = {'ML','F'}\n",
    "    check5 = {'HK'}\n",
    "    check6 = {'ML'}\n",
    "    check7 = {'F'}\n",
    "    check8 = {'unknown'}\n",
    "    check = [check1,check2,check3,check4,check5,check6,check7,check8]\n",
    "    origin_set = set(origin)\n",
    "    for item in check:\n",
    "        if item == origin_set:\n",
    "            return item\n",
    "    #Directly return origin_set may incur problem about order of elements."
   ]
  },
  {
   "cell_type": "code",
   "execution_count": null,
   "id": "920230a5",
   "metadata": {},
   "outputs": [],
   "source": [
    "f = lambda x: identify(x) if count(x)==0 else ''\n",
    "df['single'] = df['name'].apply(f)\n",
    "        \n",
    "g = lambda x: nameloop(x) if count(x)>0 else ''\n",
    "df['multiple'] = df['name'].apply(g)"
   ]
  }
 ],
 "metadata": {
  "kernelspec": {
   "display_name": "Python 3 (ipykernel)",
   "language": "python",
   "name": "python3"
  },
  "language_info": {
   "codemirror_mode": {
    "name": "ipython",
    "version": 3
   },
   "file_extension": ".py",
   "mimetype": "text/x-python",
   "name": "python",
   "nbconvert_exporter": "python",
   "pygments_lexer": "ipython3",
   "version": "3.9.7"
  }
 },
 "nbformat": 4,
 "nbformat_minor": 5
}
