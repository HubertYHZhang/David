{
 "cells": [
  {
   "cell_type": "code",
   "execution_count": 1,
   "metadata": {},
   "outputs": [],
   "source": [
    "#1 import data\n",
    "import pandas as pd\n",
    "namedf=pd.read_csv('/Users/mac/Library/CloudStorage/Dropbox/Mac/Desktop/助研/David Young/temp.csv')\n",
    "namedf=namedf.dropna()"
   ]
  },
  {
   "cell_type": "code",
   "execution_count": null,
   "metadata": {},
   "outputs": [],
   "source": [
    "#2 change the form into pd.Series\n",
    "namedf.index=namedf.index.astype(int)\n",
    "nameparse=pd.Series(namedf['name'].str.split().values,index=namedf.index)\n",
    "'''print(nameparse)'''\n",
    "nameparse.info()"
   ]
  },
  {
   "cell_type": "code",
   "execution_count": 12,
   "metadata": {},
   "outputs": [
    {
     "name": "stdout",
     "output_type": "stream",
     "text": [
      "0                           [TOHKAI, THERMO, (HK), CO, LTD]\n",
      "1          [LEE, WAI, HONG, &, NGAN, TIK, HAN, NDIYA, (JT)]\n",
      "2                                         [CHAN, WAI, LUEN]\n",
      "3                                       [LAP, WIN, CO, LTD]\n",
      "4                                    [LI, YEE, LIN, ELAINE]\n",
      "                                 ...                       \n",
      "2261121            [LIU, WING, KAI, &, LO, LAI, YING, (JT)]\n",
      "2261122        [LEUNG, TIM, &, LEUNG, CHIM, YAN, IDY, (JT)]\n",
      "2261123         [MOK, KANG, MING, &, LEE, CHI, CHING, (JT)]\n",
      "2261124                                 [HAU, SIU, PO, 1/2]\n",
      "2261125           [NG, KATHERINE, &, LI, CHOR, KEUNG, (JT)]\n",
      "Length: 2261125, dtype: object\n",
      "False\n"
     ]
    }
   ],
   "source": [
    "#3 test\n",
    "print(nameparse)\n",
    "print('LTD' in nameparse[1])"
   ]
  },
  {
   "cell_type": "code",
   "execution_count": null,
   "metadata": {},
   "outputs": [],
   "source": [
    "#4 test NA\n",
    "print(nameparse[12])\n",
    "print('LTD' in nameparse[12])"
   ]
  },
  {
   "cell_type": "code",
   "execution_count": 33,
   "metadata": {},
   "outputs": [
    {
     "data": {
      "text/plain": [
       "0          [LEE, WAI, HONG, &, NGAN, TIK, HAN, NDIYA, (JT)]\n",
       "1                                         [CHAN, WAI, LUEN]\n",
       "2                                    [LI, YEE, LIN, ELAINE]\n",
       "3                  [CHU, MING, WAH, &, YU, LAI, PING, (JT)]\n",
       "4                  [CHU, PO, LUN, &, LAU, SHUK, MING, (JT)]\n",
       "                                 ...                       \n",
       "2030372            [LIU, WING, KAI, &, LO, LAI, YING, (JT)]\n",
       "2030373        [LEUNG, TIM, &, LEUNG, CHIM, YAN, IDY, (JT)]\n",
       "2030374         [MOK, KANG, MING, &, LEE, CHI, CHING, (JT)]\n",
       "2030375                                 [HAU, SIU, PO, 1/2]\n",
       "2030376           [NG, KATHERINE, &, LI, CHOR, KEUNG, (JT)]\n",
       "Length: 2030377, dtype: object"
      ]
     },
     "execution_count": 33,
     "metadata": {},
     "output_type": "execute_result"
    }
   ],
   "source": [
    "#5 clear NA and 'LTD'\n",
    "nameparse = nameparse[nameparse.apply(lambda x: (isinstance(x, list) and len(x)>0))]\n",
    "nameparse = nameparse[nameparse.apply(lambda x: 'LTD' not in x)]\n",
    "nameparse=nameparse.reset_index(drop=True)\n",
    "nameparse\n"
   ]
  },
  {
   "cell_type": "code",
   "execution_count": 34,
   "metadata": {},
   "outputs": [],
   "source": [
    "#6 clear '&' in the last\n",
    "def custom_func(item):\n",
    "    if item[-1] != '&':\n",
    "        return item\n",
    "    else:\n",
    "        return item.remove('&')\n"
   ]
  },
  {
   "cell_type": "code",
   "execution_count": 40,
   "metadata": {},
   "outputs": [
    {
     "data": {
      "text/plain": [
       "0          [LEE, WAI, HONG, &, NGAN, TIK, HAN, NDIYA, (JT)]\n",
       "1                                         [CHAN, WAI, LUEN]\n",
       "2                                    [LI, YEE, LIN, ELAINE]\n",
       "3                  [CHU, MING, WAH, &, YU, LAI, PING, (JT)]\n",
       "4                  [CHU, PO, LUN, &, LAU, SHUK, MING, (JT)]\n",
       "                                 ...                       \n",
       "2030372            [LIU, WING, KAI, &, LO, LAI, YING, (JT)]\n",
       "2030373        [LEUNG, TIM, &, LEUNG, CHIM, YAN, IDY, (JT)]\n",
       "2030374         [MOK, KANG, MING, &, LEE, CHI, CHING, (JT)]\n",
       "2030375                                 [HAU, SIU, PO, 1/2]\n",
       "2030376           [NG, KATHERINE, &, LI, CHOR, KEUNG, (JT)]\n",
       "Length: 2030377, dtype: object"
      ]
     },
     "execution_count": 40,
     "metadata": {},
     "output_type": "execute_result"
    }
   ],
   "source": [
    "#7 run this block for 5 times or more if you would like to assure the nonexistence of '&' in the end\n",
    "#(I do not know on earth how many '&' here in a single list, I think this method is OK in a way)\n",
    "clear_last_n = nameparse.apply(custom_func)\n",
    "clear_last_n"
   ]
  },
  {
   "cell_type": "code",
   "execution_count": null,
   "metadata": {},
   "outputs": [],
   "source": [
    "#8 single holder(at least can be seen as single holder)\n",
    "clear_for_single=clear_last_n[clear_last_n.apply(lambda x: 'OTHERS' in x or 'OTHER' in x or 'OTHE' in x or 'OTH' in x or '&' not in x)]\n",
    "clear_for_single=clear_for_single.reset_index(drop=True)\n",
    "\n",
    "print(clear_for_single)\n"
   ]
  },
  {
   "cell_type": "code",
   "execution_count": 50,
   "metadata": {},
   "outputs": [],
   "source": [
    "#9\n",
    "singleholder=clear_for_single"
   ]
  },
  {
   "cell_type": "code",
   "execution_count": 47,
   "metadata": {},
   "outputs": [
    {
     "name": "stdout",
     "output_type": "stream",
     "text": [
      "0           [LEE, WAI, HONG, &, NGAN, TIK, HAN, NDIYA, (JT)]\n",
      "1                   [CHU, MING, WAH, &, YU, LAI, PING, (JT)]\n",
      "2                   [CHU, PO, LUN, &, LAU, SHUK, MING, (JT)]\n",
      "3          [YEUNG, CHOI, FUNG, &, LEUNG, KWONG, YEE, SHEP...\n",
      "4                   [NG, LAI, CHUN, &, AU, KIN, LEUNG, (JT)]\n",
      "                                 ...                        \n",
      "1027916        [FONG, MING, KWONG, &, TSE, CHUK, KWAN, (JT)]\n",
      "1027917             [LIU, WING, KAI, &, LO, LAI, YING, (JT)]\n",
      "1027918         [LEUNG, TIM, &, LEUNG, CHIM, YAN, IDY, (JT)]\n",
      "1027919          [MOK, KANG, MING, &, LEE, CHI, CHING, (JT)]\n",
      "1027920            [NG, KATHERINE, &, LI, CHOR, KEUNG, (JT)]\n",
      "Length: 1027921, dtype: object\n"
     ]
    }
   ],
   "source": [
    "#10 multiholder\n",
    "clearOTHERSforMulti=clear_last_n[clear_last_n.apply(lambda x: 'OTHERS' not in x and 'OTHER' not in x and 'OTHE' not in x and 'OTH' not in x and '&' in x)]\n",
    "clearOTHERSforMulti=clearOTHERSforMulti.reset_index(drop=True)\n",
    "print(clearOTHERSforMulti)\n",
    "MultiHolder=clearOTHERSforMulti"
   ]
  },
  {
   "cell_type": "code",
   "execution_count": null,
   "metadata": {},
   "outputs": [],
   "source": [
    "#11 function finding order of '&'\n",
    "def find_index(lst, condition):\n",
    "    order_n=[]\n",
    "    for i, item in enumerate(lst):\n",
    "        if condition(item):\n",
    "            order_n.append(i)\n",
    "    return order_n"
   ]
  },
  {
   "cell_type": "code",
   "execution_count": null,
   "metadata": {},
   "outputs": [],
   "source": [
    "#12 find last name order for multiholder\n",
    "def find_lastname(order_n_list):\n",
    "    lastnameorderlist=[0]\n",
    "    for i in order_n_list:\n",
    "        lastnameorderlist.append(i+1)\n",
    "    return lastnameorderlist"
   ]
  },
  {
   "cell_type": "code",
   "execution_count": null,
   "metadata": {},
   "outputs": [],
   "source": [
    "#13 supercede order with real last name for multiholder\n",
    "def match_lastname_withorder(lastnameorderlist,sublist):\n",
    "    lastname=[]\n",
    "    for i in lastnameorderlist:\n",
    "        lastname.append(sublist[i])\n",
    "    return lastname"
   ]
  },
  {
   "cell_type": "code",
   "execution_count": null,
   "metadata": {},
   "outputs": [],
   "source": [
    "#14 find last name for multiholder\n",
    "totallistof_lastname_list=[]\n",
    "for sublistorder in range(len(MultiHolder)):\n",
    "    ordernlist = find_index(MultiHolder[sublistorder], lambda x: x == '&')\n",
    "    lastnameorderlist=find_lastname(ordernlist)\n",
    "    lastnamelist=match_lastname_withorder(lastnameorderlist,MultiHolder[sublistorder])\n",
    "    totallistof_lastname_list.append(lastnamelist)\n",
    "totallistof_lastname_list"
   ]
  },
  {
   "cell_type": "code",
   "execution_count": null,
   "metadata": {},
   "outputs": [],
   "source": [
    "#15 find last name for singleholder\n",
    "totalsinglelastname=[]\n",
    "for i in range(len(singleholder)):\n",
    "    totalsinglelastname.append(singleholder[i][0])\n",
    "print(totalsinglelastname)\n"
   ]
  },
  {
   "cell_type": "code",
   "execution_count": null,
   "metadata": {},
   "outputs": [],
   "source": [
    "print(totallistof_lastname_list)"
   ]
  },
  {
   "cell_type": "code",
   "execution_count": 52,
   "metadata": {},
   "outputs": [
    {
     "data": {
      "text/plain": [
       "1027921"
      ]
     },
     "execution_count": 52,
     "metadata": {},
     "output_type": "execute_result"
    }
   ],
   "source": [
    "len(totallistof_lastname_list)"
   ]
  },
  {
   "cell_type": "code",
   "execution_count": 54,
   "metadata": {},
   "outputs": [
    {
     "data": {
      "text/plain": [
       "1002456"
      ]
     },
     "execution_count": 54,
     "metadata": {},
     "output_type": "execute_result"
    }
   ],
   "source": [
    "len(totalsinglelastname)"
   ]
  }
 ],
 "metadata": {
  "kernelspec": {
   "display_name": "base",
   "language": "python",
   "name": "python3"
  },
  "language_info": {
   "codemirror_mode": {
    "name": "ipython",
    "version": 3
   },
   "file_extension": ".py",
   "mimetype": "text/x-python",
   "name": "python",
   "nbconvert_exporter": "python",
   "pygments_lexer": "ipython3",
   "version": "3.9.13"
  },
  "orig_nbformat": 4,
  "vscode": {
   "interpreter": {
    "hash": "7b34b089ce0dfc9935940e0a22050b2949fa617f7a2b73925623c261bed16aeb"
   }
  }
 },
 "nbformat": 4,
 "nbformat_minor": 2
}
