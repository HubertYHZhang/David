{
 "cells": [
  {
   "cell_type": "code",
   "execution_count": 5,
   "id": "ea7fac29",
   "metadata": {},
   "outputs": [
    {
     "name": "stdout",
     "output_type": "stream",
     "text": [
      "['A', 'AU', 'AP', 'BAA', 'BING', 'BO', 'CHA', 'CHAN', 'CHAI', 'CHAK', 'CHAP', 'CHAT', 'CHAU', 'CHE', 'CHEK', 'CHEN', 'CHENG', 'CHEONG', 'CHEUK', 'CHEUNG', 'CHI', 'CHIANG', 'CHIK', 'CHIN', 'CHING', 'CHIU', 'CHO', 'CHOI', 'CHONG', 'CHOW', 'CHOY', 'CHU', 'CHUEN', 'CHUI', 'CHUK', 'CHUN', 'CHUNG', 'DAI', 'DUNG', 'EU', 'FA', 'FAI', 'FAN', 'FAT', 'FAU', 'FEI', 'FO', 'FOK', 'FONG', 'FOO', 'FOON', 'FOOK', 'FU', 'FUI', 'FUK', 'FUNG', 'HA', 'HAK', 'HAM', 'HANG', 'HAU', 'HAY', 'HEE', 'HEI', 'HENG', 'HEUNG', 'HEY', 'HI', 'HIM', 'HIN', 'HING', 'HIP', 'HIU', 'HO', 'HOI', 'HOK', 'HON', 'HONG', 'HOP', 'HOW', 'HUI', 'HUEN', 'HUNG', 'IP', 'JIN', 'KA', 'KAI', 'KAM', 'KAN', 'KAP', 'KAT', 'KAU', 'KEE', 'KEI', 'KENG', 'KEUNG', 'KI', 'KIK', 'KIM', 'KIN', 'KING', 'KIT', 'KIU', 'KO', 'KOK', 'KONG', 'KOO', 'KOON', 'KU', 'KUEN', 'KUI', 'KUK', 'KUNG', 'KWA', 'KWAI', 'KWAN', 'KWOK', 'KWONG', 'KWU', 'KWUN', 'LAI', 'LAM', 'LAAM', 'LAN', 'LAP', 'LAU', 'LAW', 'LAY', 'LEE', 'LEI', 'LEK', 'LENG', 'LEUNG', 'LEY', 'LI', 'LIK', 'LIM', 'LIN', 'LING', 'LIT', 'LIU', 'LO', 'LOK', 'LOONG', 'LONG', 'LUAN', 'LUEN', 'LUI', 'LUK', 'LUNG', 'MA', 'MAK', 'MAN', 'MEI', 'MING', 'MO', 'MOK', 'MIU', 'MUI', 'MUK', 'MUN', 'MUT', 'NA', 'NAM', 'NG', 'NGA', 'NGAI', 'NGAN', 'NGAR', 'NGAU', 'NGO', 'NIN', 'NING', 'NIP', 'NUI', 'O', 'OI', 'ON', 'ONG ', 'PAK', 'PAT', 'PEI', 'PING', 'PO', 'POON', 'PONG', 'PUI', 'PUN', 'SAI', 'SAN', 'SANG', 'SAP', 'SEE', 'SEK', 'SHA', 'SHAN', 'SHE', 'SHEN', 'SHEK', 'SHEUNG', 'SHI', 'SHIM', 'SHING', 'SHU', 'SHUE', 'SHUEN', 'SHUI', 'SHUK', 'SHUM', 'SHUN', 'SI', 'SIN', 'SING', 'SIT', 'SIU', 'SO', 'SOK', 'SUEN', 'SUI', 'SUK', 'SUM', 'SUN', 'SUNG', 'SZE', 'TAI', 'TAK', 'TAM', 'TAN', 'TANG', 'TAT', 'TIN', 'TING', 'TO', 'TOI', 'TONG', 'TSAN', 'TSANG', 'TSAT', 'TSE', 'TSO', 'TSOI', 'TSUEN', 'TSUI', 'TSZ', 'TUEN', 'TUN', 'TUNG', 'TZE', 'UN', 'WA', 'WAH', 'WAI', 'WAN', 'WANG', 'WAT', 'WING', 'WO', 'WONG', 'WOO', 'WU', 'WUI', 'WUN', 'YAM', 'YAN', 'YAT', 'YAU', 'YEE', 'YEUNG', 'YI', 'YICK', 'YIK', 'YIM', 'YIN', 'YING', 'YIP', 'YIU', 'YU', 'YUN', 'YUE', 'YUEN', 'YUET', 'YUI', 'YUK', 'YUNG']\n"
     ]
    }
   ],
   "source": [
    "import re\n",
    "import requests\n",
    "from bs4 import BeautifulSoup\n",
    "\n",
    "# URL of the Wikipedia page containing the table\n",
    "url = 'https://zh.wikipedia.org/wiki/%E9%A6%99%E6%B8%AF%E6%94%BF%E5%BA%9C%E7%B2%B5%E8%AA%9E%E6%8B%BC%E9%9F%B3'\n",
    "\n",
    "# Send a GET request to the page\n",
    "response = requests.get(url)\n",
    "\n",
    "# Create a BeautifulSoup object from the page's HTML content\n",
    "soup = BeautifulSoup(response.content, 'html.parser')\n",
    "\n",
    "# Find the table in the page using its class name\n",
    "table = soup.find_all('table', {'class': 'wikitable'})[1]\n",
    "\n",
    "# Find all the rows in the table\n",
    "rows = table.find_all('tr')\n",
    "\n",
    "# Create an empty list to store the first cells of each row\n",
    "canton = []\n",
    "\n",
    "# Define a regular expression to match Chinese brackets and their contents\n",
    "pattern = re.compile(r'（.*?）')\n",
    "pattern2=re.compile(r'\\(.*?\\)')\n",
    "\n",
    "# Loop through each row and append the content of the first cell to the list\n",
    "for row in rows:\n",
    "    cells = row.find_all('td')\n",
    "    if len(cells) > 0:\n",
    "        first_cell = cells[0]\n",
    "        # Remove the parts surrounded by Chinese brackets from the text of the first cell\n",
    "        cleaned_text = re.sub(pattern, '', first_cell.text.strip())\n",
    "        cleaned_text = re.sub(pattern2, '', cleaned_text)\n",
    "        canton.append(cleaned_text)\n",
    "\n",
    "canton = [cell.upper() for cell in canton]\n",
    "print(canton)"
   ]
  }
 ],
 "metadata": {
  "kernelspec": {
   "display_name": "Python 3 (ipykernel)",
   "language": "python",
   "name": "python3"
  },
  "language_info": {
   "codemirror_mode": {
    "name": "ipython",
    "version": 3
   },
   "file_extension": ".py",
   "mimetype": "text/x-python",
   "name": "python",
   "nbconvert_exporter": "python",
   "pygments_lexer": "ipython3",
   "version": "3.9.7"
  }
 },
 "nbformat": 4,
 "nbformat_minor": 5
}
