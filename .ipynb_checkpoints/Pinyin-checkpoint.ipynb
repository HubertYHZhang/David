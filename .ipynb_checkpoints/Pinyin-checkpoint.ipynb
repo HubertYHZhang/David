{
 "cells": [
  {
   "cell_type": "code",
   "execution_count": 3,
   "id": "52730d6d",
   "metadata": {},
   "outputs": [],
   "source": [
    "import itertools\n",
    "\n",
    "initials = ['b', 'p', 'm', 'f', 'd', 't', 'n', 'l', 'g', 'k', 'h', 'j', 'q', 'x', 'zh', 'ch', 'sh', 'r', 'z', 'c', 's', '']\n",
    "finals = ['a', 'o', 'e', 'i', 'u', 'v', 'ai', 'ei', 'ui', 'ao', 'ou', 'iu', 'ie', 'ue', 'er', 'an', 'en', 'in', 'un', 'ang', 'eng', 'ing', 'ong']\n",
    "\n",
    "combinations = list(itertools.product(initials, finals))\n",
    "\n",
    "syllables = []\n",
    "for syllable in combinations:\n",
    "    s = syllable[0] + syllable[1]\n",
    "    if s not in syllables:\n",
    "        syllables.append(s)\n"
   ]
  },
  {
   "cell_type": "code",
   "execution_count": 5,
   "id": "fa9be7e6",
   "metadata": {},
   "outputs": [],
   "source": [
    "with open('pinyin.txt','w',encoding='utf-8') as file:\n",
    "    for cell in syllables:\n",
    "        file.write(cell+'\\n')"
   ]
  }
 ],
 "metadata": {
  "kernelspec": {
   "display_name": "Python 3 (ipykernel)",
   "language": "python",
   "name": "python3"
  },
  "language_info": {
   "codemirror_mode": {
    "name": "ipython",
    "version": 3
   },
   "file_extension": ".py",
   "mimetype": "text/x-python",
   "name": "python",
   "nbconvert_exporter": "python",
   "pygments_lexer": "ipython3",
   "version": "3.9.7"
  }
 },
 "nbformat": 4,
 "nbformat_minor": 5
}
