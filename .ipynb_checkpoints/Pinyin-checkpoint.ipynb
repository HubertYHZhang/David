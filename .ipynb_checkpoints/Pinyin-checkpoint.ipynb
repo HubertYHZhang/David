{
 "cells": [
  {
   "cell_type": "code",
   "execution_count": 8,
   "id": "fe39de10",
   "metadata": {},
   "outputs": [
    {
     "name": "stdout",
     "output_type": "stream",
     "text": [
      "['zhi', 'chi', 'shi', 'ri', 'zi', 'ci', 'si', 'a', 'ba', 'pa', 'ma', 'fa', 'da', 'ta', 'na', 'la', 'ga', 'ka', 'ha', 'zha', 'cha', 'sha', 'za', 'ca', 'sa', 'o', 'bo', 'po', 'mo', 'fo', 'lo', 'e', 'me', 'de', 'te', 'ne', 'le', 'ge', 'ke', 'he', 'zhe', 'che', 'she', 're', 'ze', 'ce', 'se', 'ê', 'ai', 'bai', 'pai', 'mai', 'dai', 'tai', 'nai', 'lai', 'gai', 'kai', 'hai', 'zhai', 'chai', 'shai', 'zai', 'cai', 'sai', 'ei', 'bei', 'pei', 'mei', 'fei', 'dei', 'tei', 'nei', 'lei', 'gei', 'kei', 'hei', 'zhei', 'shei', 'zei', 'cei', 'ao', 'bao', 'pao', 'mao', 'dao', 'tao', 'nao', 'lao', 'gao', 'kao', 'hao', 'zhao', 'chao', 'shao', 'rao', 'zao', 'cao', 'sao', 'ou', 'pou', 'mou', 'fou', 'dou', 'tou', 'nou', 'lou', 'gou', 'kou', 'hou', 'zhou', 'chou', 'shou', 'rou', 'zou', 'cou', 'sou', 'an', 'ban', 'pan', 'man', 'fan', 'dan', 'tan', 'nan', 'lan', 'gan', 'kan', 'han', 'zhan', 'chan', 'shan', 'ran', 'zan', 'can', 'san', 'en', 'ben', 'pen', 'men', 'fen', 'den', 'nen', 'gen', 'ken', 'hen', 'zhen', 'chen', 'shen', 'ren', 'zen', 'cen', 'sen', 'ang', 'bang', 'pang', 'mang', 'fang', 'dang', 'tang', 'nang', 'lang', 'gang', 'kang', 'hang', 'zhang', 'chang', 'shang', 'rang', 'zang', 'cang', 'sang', 'eng', 'beng', 'peng', 'meng', 'feng', 'deng', 'teng', 'neng', 'leng', 'geng', 'keng', 'heng', 'zheng', 'cheng', 'sheng', 'reng', 'zeng', 'ceng', 'seng', 'dong', 'tong', 'nong', 'long', 'gong', 'kong', 'hong', 'zhong', 'chong', 'rong', 'zong', 'cong', 'song', 'er', 'yi', 'bi', 'pi', 'mi', 'di', 'ti', 'ni', 'li', 'ji', 'qi', 'xi', 'ya', 'pia', 'dia', 'lia', 'jia', 'qia', 'xia', 'yo', 'ye', 'bie', 'pie', 'mie', 'die', 'tie', 'nie', 'lie', 'jie', 'qie', 'xie', 'yao', 'biao', 'piao', 'miao', 'fiao', 'diao', 'tiao', 'niao', 'liao', 'jiao', 'qiao', 'xiao', 'you', 'miu', 'diu', 'niu', 'liu', 'kiu', 'jiu', 'qiu', 'xiu', 'yan', 'bian', 'pian', 'mian', 'dian', 'tian', 'nian', 'lian', 'jian', 'qian', 'xian', 'yin', 'bin', 'pin', 'min', 'nin', 'lin', 'jin', 'qin', 'xin', 'yang', 'biang', 'niang', 'liang', 'jiang', 'qiang', 'xiang', 'ying', 'bing', 'ping', 'ming', 'ding', 'ting', 'ning', 'ling', 'jing', 'qing', 'xing', 'yong', 'jiong', 'qiong', 'xiong', 'wu', 'bu', 'pu', 'mu', 'fu', 'du', 'tu', 'nu', 'lu', 'gu', 'ku', 'hu', 'zhu', 'chu', 'shu', 'ru', 'zu', 'cu', 'su', 'wa', 'gua', 'kua', 'hua', 'zhua', 'chua', 'shua', 'rua', 'wo', 'duo', 'tuo', 'nuo', 'luo', 'guo', 'kuo', 'huo', 'zhuo', 'chuo', 'shuo', 'ruo', 'zuo', 'cuo', 'suo', 'wai', 'guai', 'kuai', 'huai', 'zhuai', 'chuai', 'shuai', 'wei', 'dui', 'tui', 'gui', 'kui', 'hui', 'zhui', 'chui', 'shui', 'rui', 'zui', 'cui', 'sui', 'wan', 'duan', 'tuan', 'nuan', 'luan', 'guan', 'kuan', 'huan', 'zhuan', 'chuan', 'shuan', 'ruan', 'zuan', 'cuan', 'suan', 'wen', 'dun', 'tun', 'nun', 'lun', 'gun', 'kun', 'hun', 'zhun', 'chun', 'shun', 'run', 'zun', 'cun', 'sun', 'wang', 'duang', 'guang', 'kuang', 'huang', 'zhuang', 'chuang', 'shuang', 'weng', 'yu', 'nü', 'lü', 'ju', 'qu', 'xu', 'yue', 'nüe', 'lüe', 'jue', 'que', 'xue', 'yuan', 'lüan', 'juan', 'quan', 'xuan', 'yun', 'lün', 'jun', 'qun', 'xun', 'sei', 'nia', 'yai', 'diang', 'nv', 'lv', 'nue', 'lue']\n",
      "Written two file pinyin.txt\n"
     ]
    }
   ],
   "source": [
    "import requests\n",
    "import re\n",
    "from bs4 import BeautifulSoup\n",
    "\n",
    "url = \"https://en.wikipedia.org/wiki/Pinyin_table#cite_note-25\"\n",
    "response = requests.get(url)\n",
    "soup = BeautifulSoup(response.content, \"html.parser\")\n",
    "\n",
    "table = soup.find_all(\"table\")[1] # get the second table on the page\n",
    "rows = table.find_all(\"tr\")\n",
    "\n",
    "original=[]\n",
    "pinyin=[]\n",
    "\n",
    "for row in rows:\n",
    "    cells = row.find_all(\"td\")\n",
    "    for cell in cells:\n",
    "        txt=cell.text.strip()\n",
    "        if txt!=\"\":\n",
    "            original.append(txt)\n",
    "\n",
    "pattern = re.compile(r'\\[.*?\\]')\n",
    "for cell in original:\n",
    "    cell = re.sub(pattern, '', cell)\n",
    "    pinyin.append(cell)\n",
    "\n",
    "\n",
    "for cell in pinyin:\n",
    "    if cell[-1]==\"ü\":\n",
    "        new = cell.replace(\"ü\",\"v\")\n",
    "        pinyin.append(new)\n",
    "    if cell[-2:]==\"üe\":\n",
    "        new = cell.replace(\"üe\",\"ue\")\n",
    "        pinyin.append(new)\n",
    "    if cell[-1]==\" \":\n",
    "        new = cell.replace(\" \",\"\")\n",
    "        pinyin.remove(cell)\n",
    "        pinyin.append(new)\n",
    "print(pinyin)\n",
    "\n",
    "remove_list=['lo','ne','dei','tei','kei','zhei','shei','zei','cei','sei','pou','nou','den','nen'\n",
    "             ,'zen','eng','pia','dia','nia','lia','yai','fiao','kiu','biang','diang','chua',\n",
    "             'rua','nun','zun','duang']\n",
    "for item in remove_list:\n",
    "    pinyin.remove(item)\n",
    "        \n",
    "output = [cell.upper() for cell in pinyin]   \n",
    "\n",
    "with open('pinyin.txt','w',encoding='utf-8') as file:\n",
    "    for cell in output:\n",
    "        file.write(str(cell)+'\\n')\n",
    "     \n",
    "\n",
    "print('Written two file pinyin.txt')"
   ]
  }
 ],
 "metadata": {
  "kernelspec": {
   "display_name": "Python 3 (ipykernel)",
   "language": "python",
   "name": "python3"
  },
  "language_info": {
   "codemirror_mode": {
    "name": "ipython",
    "version": 3
   },
   "file_extension": ".py",
   "mimetype": "text/x-python",
   "name": "python",
   "nbconvert_exporter": "python",
   "pygments_lexer": "ipython3",
   "version": "3.9.7"
  }
 },
 "nbformat": 4,
 "nbformat_minor": 5
}
