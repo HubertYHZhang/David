{
 "cells": [
  {
   "cell_type": "code",
   "execution_count": 5,
   "metadata": {},
   "outputs": [],
   "source": [
    "import pandas as pd\n",
    "namedf=pd.read_csv('/Users/mac/Library/CloudStorage/Dropbox/Mac/Desktop/助研/David Young/temp.csv')\n",
    "namedf=namedf.dropna()"
   ]
  },
  {
   "cell_type": "code",
   "execution_count": 6,
   "metadata": {},
   "outputs": [
    {
     "name": "stdout",
     "output_type": "stream",
     "text": [
      "<class 'pandas.core.series.Series'>\n",
      "Int64Index: 2261125 entries, 0 to 2261125\n",
      "Series name: None\n",
      "Non-Null Count    Dtype \n",
      "--------------    ----- \n",
      "2261125 non-null  object\n",
      "dtypes: object(1)\n",
      "memory usage: 34.5+ MB\n"
     ]
    }
   ],
   "source": [
    "namedf.index=namedf.index.astype(int)\n",
    "nameparse=pd.Series(namedf['name'].str.split().values,index=namedf.index)\n",
    "'''print(nameparse)'''\n",
    "nameparse.info()"
   ]
  },
  {
   "cell_type": "code",
   "execution_count": 12,
   "metadata": {},
   "outputs": [
    {
     "name": "stdout",
     "output_type": "stream",
     "text": [
      "0                           [TOHKAI, THERMO, (HK), CO, LTD]\n",
      "1          [LEE, WAI, HONG, &, NGAN, TIK, HAN, NDIYA, (JT)]\n",
      "2                                         [CHAN, WAI, LUEN]\n",
      "3                                       [LAP, WIN, CO, LTD]\n",
      "4                                    [LI, YEE, LIN, ELAINE]\n",
      "                                 ...                       \n",
      "2261121            [LIU, WING, KAI, &, LO, LAI, YING, (JT)]\n",
      "2261122        [LEUNG, TIM, &, LEUNG, CHIM, YAN, IDY, (JT)]\n",
      "2261123         [MOK, KANG, MING, &, LEE, CHI, CHING, (JT)]\n",
      "2261124                                 [HAU, SIU, PO, 1/2]\n",
      "2261125           [NG, KATHERINE, &, LI, CHOR, KEUNG, (JT)]\n",
      "Length: 2261125, dtype: object\n",
      "False\n"
     ]
    }
   ],
   "source": [
    "print(nameparse)\n",
    "print('LTD' in nameparse[1])"
   ]
  },
  {
   "cell_type": "code",
   "execution_count": 10,
   "metadata": {},
   "outputs": [
    {
     "name": "stdout",
     "output_type": "stream",
     "text": [
      "False\n"
     ]
    }
   ],
   "source": [
    "print('LTD' in nameparse[13])"
   ]
  },
  {
   "cell_type": "code",
   "execution_count": 14,
   "metadata": {},
   "outputs": [
    {
     "data": {
      "text/plain": [
       "0          [LEE, WAI, HONG, &, NGAN, TIK, HAN, NDIYA, (JT)]\n",
       "1                                         [CHAN, WAI, LUEN]\n",
       "2                                    [LI, YEE, LIN, ELAINE]\n",
       "3                  [CHU, MING, WAH, &, YU, LAI, PING, (JT)]\n",
       "4                  [CHU, PO, LUN, &, LAU, SHUK, MING, (JT)]\n",
       "                                 ...                       \n",
       "2030372            [LIU, WING, KAI, &, LO, LAI, YING, (JT)]\n",
       "2030373        [LEUNG, TIM, &, LEUNG, CHIM, YAN, IDY, (JT)]\n",
       "2030374         [MOK, KANG, MING, &, LEE, CHI, CHING, (JT)]\n",
       "2030375                                 [HAU, SIU, PO, 1/2]\n",
       "2030376           [NG, KATHERINE, &, LI, CHOR, KEUNG, (JT)]\n",
       "Length: 2030377, dtype: object"
      ]
     },
     "execution_count": 14,
     "metadata": {},
     "output_type": "execute_result"
    }
   ],
   "source": [
    "nameparse = nameparse[nameparse.apply(lambda x: (isinstance(x, list) and len(x)>0))]\n",
    "nameparse = nameparse[nameparse.apply(lambda x: 'LTD' not in x)]\n",
    "nameparse=nameparse.reset_index(drop=True)\n",
    "nameparse\n"
   ]
  },
  {
   "cell_type": "code",
   "execution_count": 76,
   "metadata": {},
   "outputs": [],
   "source": [
    "mediateselectmultipl=nameparse[nameparse.apply(lambda x: '&' in x)]"
   ]
  },
  {
   "cell_type": "code",
   "execution_count": 96,
   "metadata": {},
   "outputs": [
    {
     "data": {
      "text/plain": [
       "0           [LEE, WAI, HONG, &, NGAN, TIK, HAN, NDIYA, (JT)]\n",
       "1                   [CHU, MING, WAH, &, YU, LAI, PING, (JT)]\n",
       "2                   [CHU, PO, LUN, &, LAU, SHUK, MING, (JT)]\n",
       "3          [YEUNG, CHOI, FUNG, &, LEUNG, KWONG, YEE, SHEP...\n",
       "4                   [NG, LAI, CHUN, &, AU, KIN, LEUNG, (JT)]\n",
       "                                 ...                        \n",
       "1230484        [FONG, MING, KWONG, &, TSE, CHUK, KWAN, (JT)]\n",
       "1230485             [LIU, WING, KAI, &, LO, LAI, YING, (JT)]\n",
       "1230486         [LEUNG, TIM, &, LEUNG, CHIM, YAN, IDY, (JT)]\n",
       "1230487          [MOK, KANG, MING, &, LEE, CHI, CHING, (JT)]\n",
       "1230488            [NG, KATHERINE, &, LI, CHOR, KEUNG, (JT)]\n",
       "Length: 1230489, dtype: object"
      ]
     },
     "execution_count": 96,
     "metadata": {},
     "output_type": "execute_result"
    }
   ],
   "source": [
    "selectmultipl=mediateselectmultipl[nameparse.apply(lambda x: '&' in x)]\n",
    "selectmultipl=selectmultipl.reset_index(drop=True)\n",
    "selectmultipl"
   ]
  },
  {
   "cell_type": "code",
   "execution_count": 100,
   "metadata": {},
   "outputs": [
    {
     "data": {
      "text/plain": [
       "0           [LEE, WAI, HONG, &, NGAN, TIK, HAN, NDIYA, (JT)]\n",
       "1                   [CHU, MING, WAH, &, YU, LAI, PING, (JT)]\n",
       "2                   [CHU, PO, LUN, &, LAU, SHUK, MING, (JT)]\n",
       "3          [YEUNG, CHOI, FUNG, &, LEUNG, KWONG, YEE, SHEP...\n",
       "4                   [NG, LAI, CHUN, &, AU, KIN, LEUNG, (JT)]\n",
       "                                 ...                        \n",
       "1030797        [FONG, MING, KWONG, &, TSE, CHUK, KWAN, (JT)]\n",
       "1030798             [LIU, WING, KAI, &, LO, LAI, YING, (JT)]\n",
       "1030799         [LEUNG, TIM, &, LEUNG, CHIM, YAN, IDY, (JT)]\n",
       "1030800          [MOK, KANG, MING, &, LEE, CHI, CHING, (JT)]\n",
       "1030801            [NG, KATHERINE, &, LI, CHOR, KEUNG, (JT)]\n",
       "Length: 1030802, dtype: object"
      ]
     },
     "execution_count": 100,
     "metadata": {},
     "output_type": "execute_result"
    }
   ],
   "source": [
    "selectmultipl=selectmultipl[selectmultipl.apply(lambda x: 'OTHERS' not in x and 'OTHER' not in x and 'OTHE' not in x and 'OTH' not in x)]\n",
    "selectmultipl=selectmultipl.reset_index(drop=True)\n",
    "selectmultipl"
   ]
  },
  {
   "cell_type": "code",
   "execution_count": 104,
   "metadata": {},
   "outputs": [
    {
     "data": {
      "text/plain": [
       "0           [LEE, WAI, HONG, &, NGAN, TIK, HAN, NDIYA, (JT)]\n",
       "1                   [CHU, MING, WAH, &, YU, LAI, PING, (JT)]\n",
       "2                   [CHU, PO, LUN, &, LAU, SHUK, MING, (JT)]\n",
       "3          [YEUNG, CHOI, FUNG, &, LEUNG, KWONG, YEE, SHEP...\n",
       "4                   [NG, LAI, CHUN, &, AU, KIN, LEUNG, (JT)]\n",
       "                                 ...                        \n",
       "1029465        [FONG, MING, KWONG, &, TSE, CHUK, KWAN, (JT)]\n",
       "1029466             [LIU, WING, KAI, &, LO, LAI, YING, (JT)]\n",
       "1029467         [LEUNG, TIM, &, LEUNG, CHIM, YAN, IDY, (JT)]\n",
       "1029468          [MOK, KANG, MING, &, LEE, CHI, CHING, (JT)]\n",
       "1029469            [NG, KATHERINE, &, LI, CHOR, KEUNG, (JT)]\n",
       "Length: 1029470, dtype: object"
      ]
     },
     "execution_count": 104,
     "metadata": {},
     "output_type": "execute_result"
    }
   ],
   "source": [
    "selectmultipl=selectmultipl[selectmultipl.apply(lambda x:'&' in x)]\n",
    "selectmultipl=selectmultipl.reset_index(drop=True)\n",
    "selectmultipl"
   ]
  },
  {
   "cell_type": "code",
   "execution_count": 99,
   "metadata": {},
   "outputs": [],
   "source": [
    "for i in range(len(selectmultipl)):\n",
    "    if selectmultipl[i][-1] == '&':\n",
    "        selectmultipl[i]=selectmultipl[i][:-1]"
   ]
  },
  {
   "cell_type": "code",
   "execution_count": 105,
   "metadata": {},
   "outputs": [],
   "source": [
    "totallistof_lastname_list=[]\n",
    "for sublistorder in range(len(selectmultipl)):\n",
    "    ordernlist = find_index(selectmultipl[sublistorder], lambda x: x == '&')\n",
    "    lastnameorderlist=find_lastname(ordernlist)\n",
    "    lastnamelist=match_lastname_withorder(lastnameorderlist,selectmultipl[sublistorder])\n",
    "    totallistof_lastname_list.append(lastnamelist)"
   ]
  },
  {
   "cell_type": "code",
   "execution_count": 55,
   "metadata": {},
   "outputs": [],
   "source": [
    "def find_lastname(order_n_list):\n",
    "    lastnameorderlist=[0]\n",
    "    for i in order_n_list:\n",
    "        lastnameorderlist.append(i+1)\n",
    "    return lastnameorderlist"
   ]
  },
  {
   "cell_type": "code",
   "execution_count": 56,
   "metadata": {},
   "outputs": [],
   "source": [
    "def match_lastname_withorder(lastnameorderlist,sublist):\n",
    "    lastname=[]\n",
    "    for i in lastnameorderlist:\n",
    "        lastname.append(sublist[i])\n",
    "    return lastname"
   ]
  },
  {
   "cell_type": "code",
   "execution_count": 57,
   "metadata": {},
   "outputs": [],
   "source": [
    "def find_index(lst, condition):\n",
    "    order_n=[]\n",
    "    for i, item in enumerate(lst):\n",
    "        if condition(item):\n",
    "            order_n.append(i)\n",
    "    return order_n"
   ]
  },
  {
   "cell_type": "code",
   "execution_count": null,
   "metadata": {},
   "outputs": [],
   "source": [
    "print(totallistof_lastname_list)"
   ]
  },
  {
   "cell_type": "code",
   "execution_count": 106,
   "metadata": {},
   "outputs": [
    {
     "data": {
      "text/plain": [
       "1029470"
      ]
     },
     "execution_count": 106,
     "metadata": {},
     "output_type": "execute_result"
    }
   ],
   "source": [
    "len(totallistof_lastname_list)"
   ]
  },
  {
   "cell_type": "code",
   "execution_count": 92,
   "metadata": {},
   "outputs": [
    {
     "data": {
      "text/plain": [
       "2"
      ]
     },
     "execution_count": 92,
     "metadata": {},
     "output_type": "execute_result"
    }
   ],
   "source": [
    "len(totallistof_lastname_list[0])"
   ]
  },
  {
   "cell_type": "code",
   "execution_count": 93,
   "metadata": {},
   "outputs": [
    {
     "data": {
      "text/plain": [
       "'NGAN'"
      ]
     },
     "execution_count": 93,
     "metadata": {},
     "output_type": "execute_result"
    }
   ],
   "source": [
    "totallistof_lastname_list[0][1]"
   ]
  },
  {
   "cell_type": "code",
   "execution_count": 107,
   "metadata": {},
   "outputs": [
    {
     "name": "stdout",
     "output_type": "stream",
     "text": [
      "The shortest element is at index 0\n"
     ]
    }
   ],
   "source": [
    "min_len = float('inf')\n",
    "min_len_index = None\n",
    "for index, elem in enumerate(totallistof_lastname_list):\n",
    "    if len(elem) < min_len:\n",
    "        min_len = len(elem)\n",
    "        min_len_index = index\n",
    "\n",
    "print(\"The shortest element is at index\", min_len_index)\n"
   ]
  }
 ],
 "metadata": {
  "kernelspec": {
   "display_name": "base",
   "language": "python",
   "name": "python3"
  },
  "language_info": {
   "codemirror_mode": {
    "name": "ipython",
    "version": 3
   },
   "file_extension": ".py",
   "mimetype": "text/x-python",
   "name": "python",
   "nbconvert_exporter": "python",
   "pygments_lexer": "ipython3",
   "version": "3.9.13"
  },
  "orig_nbformat": 4,
  "vscode": {
   "interpreter": {
    "hash": "7b34b089ce0dfc9935940e0a22050b2949fa617f7a2b73925623c261bed16aeb"
   }
  }
 },
 "nbformat": 4,
 "nbformat_minor": 2
}
