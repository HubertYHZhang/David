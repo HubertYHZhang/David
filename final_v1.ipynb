{
 "cells": [
  {
   "cell_type": "code",
   "execution_count": 269,
   "id": "ab523681",
   "metadata": {},
   "outputs": [],
   "source": [
    "import pandas as pd\n",
    "\n",
    "names=pd.read_csv('/Users/hubertcheung/Downloads/temp.csv')\n",
    "names=names.dropna()\n",
    "nameparse=names['name'].str.split()\n",
    "\n",
    "nameparse = nameparse[nameparse.apply(lambda x: (isinstance(x, list) and len(x)>0))]\n",
    "nameparse = nameparse[nameparse.apply(lambda x: 'LTD' not in x)]"
   ]
  },
  {
   "cell_type": "code",
   "execution_count": 270,
   "id": "a12cb578",
   "metadata": {},
   "outputs": [],
   "source": [
    "with open('canton.txt', 'r', encoding='utf-8') as file:\n",
    "    lines = file.readlines()\n",
    "\n",
    "canton = [line.strip() for line in lines]"
   ]
  },
  {
   "cell_type": "code",
   "execution_count": 271,
   "id": "4149119b",
   "metadata": {},
   "outputs": [],
   "source": [
    "with open('pinyin.txt','r',encoding='utf-8') as file:\n",
    "    lines=file.readlines()\n",
    "\n",
    "pinyin = [line.strip() for line in lines]"
   ]
  },
  {
   "cell_type": "code",
   "execution_count": 272,
   "id": "f978ea28",
   "metadata": {},
   "outputs": [],
   "source": [
    "with open('last_name_pinyin.txt','r',encoding='utf-8') as file:\n",
    "    lines=file.readlines()\n",
    "    \n",
    "last_name_pinyin = [line.strip() for line in lines]"
   ]
  },
  {
   "cell_type": "code",
   "execution_count": 273,
   "id": "8e1a2bed",
   "metadata": {},
   "outputs": [],
   "source": [
    "with open('last_name_canton.txt','r',encoding='utf-8') as file:\n",
    "    lines=file.readlines()\n",
    "    \n",
    "last_name_canton = [line.strip() for line in lines]"
   ]
  },
  {
   "cell_type": "code",
   "execution_count": 274,
   "id": "630b6e2a",
   "metadata": {},
   "outputs": [],
   "source": [
    "df = pd.DataFrame(nameparse)"
   ]
  },
  {
   "cell_type": "code",
   "execution_count": 275,
   "id": "0b265194",
   "metadata": {},
   "outputs": [],
   "source": [
    "pinyin_unique = list(set(pinyin) - (set(canton) & set(pinyin)))\n",
    "canton_unique = list(set(canton) - (set(canton) & set(pinyin)))"
   ]
  },
  {
   "cell_type": "code",
   "execution_count": 284,
   "id": "84a3111b",
   "metadata": {},
   "outputs": [],
   "source": [
    "#The main part of the identification. \n",
    "def identify(name):\n",
    "    if len(name)==1: return 'unknown'\n",
    "    if len(name)>=2:\n",
    "        if name[0] in last_name_pinyin:\n",
    "            if name[0] not in last_name_canton:\n",
    "                if name[1] in canton_unique:\n",
    "                    return 'unknown'\n",
    "                elif len(name)>=3 and name[2] in canton_unique:\n",
    "                    return 'unknown'\n",
    "                else: return 'ML'\n",
    "            if name[0] in last_name_canton:\n",
    "                if name[1] in pinyin_unique:\n",
    "                    return 'ML'\n",
    "                elif name[1] in canton_unique:\n",
    "                    return 'HK'\n",
    "                elif len(name)>=3:\n",
    "                    if name[2] in pinyin_unique: return 'ML'\n",
    "                    elif name[2] in canton_unique: return 'HK'\n",
    "                    elif len(name)>=4:\n",
    "                        if name[3] in pinyin_unique: return 'ML'\n",
    "                        if name[3] in canton_unique: return 'HK'\n",
    "                elif len(name)==2: return 'ML'\n",
    "                else: return 'HK'\n",
    "                    \n",
    "        elif name[0] in last_name_canton: return 'HK'\n",
    "        else:\n",
    "            return 'F'"
   ]
  },
  {
   "cell_type": "code",
   "execution_count": 277,
   "id": "218429aa",
   "metadata": {},
   "outputs": [],
   "source": [
    "def countname(a):\n",
    "    count=0\n",
    "    for item in a:\n",
    "        if item == '&':\n",
    "            count+=1\n",
    "    return count\n",
    "\n",
    "counting = nameparse.apply(lambda x: countname(x))"
   ]
  },
  {
   "cell_type": "code",
   "execution_count": 278,
   "id": "4b38d762",
   "metadata": {},
   "outputs": [],
   "source": [
    "def locate(a,n):\n",
    "    count = 0\n",
    "    for i,item in enumerate(a):\n",
    "        if item == '&':\n",
    "            count += 1\n",
    "        if count == n:\n",
    "            return i\n",
    "    if n == 0:\n",
    "        return 0\n",
    "    if n == countname(a):\n",
    "        return len(a)"
   ]
  },
  {
   "cell_type": "code",
   "execution_count": 279,
   "id": "41a45685",
   "metadata": {},
   "outputs": [],
   "source": [
    "def clean(mylist):\n",
    "    i = 1\n",
    "    newlist = []\n",
    "    consecutive = False\n",
    "    for item in mylist:\n",
    "        if item == '&':\n",
    "            if not consecutive:\n",
    "                newlist.append(item)\n",
    "                consecutive = True\n",
    "        else:\n",
    "            newlist.append(item)\n",
    "            consecutive = False\n",
    "    if mylist[-1] == '&':\n",
    "        mylist = mylist[:-1]\n",
    "    return newlist"
   ]
  },
  {
   "cell_type": "code",
   "execution_count": 280,
   "id": "4a53881a",
   "metadata": {},
   "outputs": [],
   "source": [
    "nameparse = nameparse.apply(lambda x: clean(x))"
   ]
  },
  {
   "cell_type": "code",
   "execution_count": 281,
   "id": "c4eee06d",
   "metadata": {},
   "outputs": [],
   "source": [
    "from itertools import chain, combinations\n",
    "\n",
    "def powerset(iterable):\n",
    "    s = list(iterable)\n",
    "    return chain.from_iterable(combinations(s, r+1) for r in range(len(s)))\n",
    "\n",
    "outcome = [set(x) for x in powerset({'HK','ML','F','unknown'})]"
   ]
  },
  {
   "cell_type": "code",
   "execution_count": 285,
   "id": "4e9769f4",
   "metadata": {},
   "outputs": [],
   "source": [
    "#This only works on multiple names.\n",
    "def nameloop(namelist):\n",
    "    namecount = countname(namelist) #Notice that here namecount is actually the number of names - 1.\n",
    "    origin = []\n",
    "    for num in range(namecount+1):\n",
    "        name = namelist[locate(namelist,num):locate(namelist,num+1)]\n",
    "        if name[0] == '&':\n",
    "            name = name[1:]\n",
    "        origin.append(identify(name))\n",
    "    origin_set = set(origin)\n",
    "    \n",
    "    for item in outcome:\n",
    "        if item == origin_set:\n",
    "            return item\n",
    "    #Directly return origin_set may incur problem about order of elements."
   ]
  },
  {
   "cell_type": "code",
   "execution_count": 286,
   "id": "3688dc79",
   "metadata": {},
   "outputs": [
    {
     "name": "stdout",
     "output_type": "stream",
     "text": [
      "The code took 32.94384600000001 seconds of CPU time to run.\n"
     ]
    }
   ],
   "source": [
    "import time\n",
    "start_time = time.process_time() # store the start time\n",
    "\n",
    "f = lambda x: identify(x) if countname(x)==0 else None\n",
    "df['single'] = df['name'].apply(f)\n",
    "        \n",
    "g = lambda x: nameloop(x) if countname(x)>0 else None\n",
    "df['multiple'] = df['name'].apply(g)\n",
    "\n",
    "end_time = time.process_time() # store the end time\n",
    "print(f\"The code took {end_time - start_time} seconds of CPU time to run.\")\n",
    "\n",
    "df.to_csv('df.csv')"
   ]
  },
  {
   "cell_type": "code",
   "execution_count": null,
   "id": "82bcf07a",
   "metadata": {},
   "outputs": [],
   "source": [
    "df['name'][1495]\n",
    "nameloop_test(df['name'][1495])"
   ]
  },
  {
   "cell_type": "code",
   "execution_count": null,
   "id": "e7594953",
   "metadata": {},
   "outputs": [],
   "source": [
    "'MOU' in last_name_canton"
   ]
  },
  {
   "cell_type": "code",
   "execution_count": null,
   "id": "54bc21d1",
   "metadata": {},
   "outputs": [],
   "source": []
  }
 ],
 "metadata": {
  "kernelspec": {
   "display_name": "Python 3 (ipykernel)",
   "language": "python",
   "name": "python3"
  },
  "language_info": {
   "codemirror_mode": {
    "name": "ipython",
    "version": 3
   },
   "file_extension": ".py",
   "mimetype": "text/x-python",
   "name": "python",
   "nbconvert_exporter": "python",
   "pygments_lexer": "ipython3",
   "version": "3.9.7"
  }
 },
 "nbformat": 4,
 "nbformat_minor": 5
}
