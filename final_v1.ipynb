{
 "cells": [
  {
   "cell_type": "code",
   "execution_count": 6,
   "id": "ab523681",
   "metadata": {},
   "outputs": [],
   "source": [
    "#Some LTDs are not identified yet.\n",
    "\n",
    "import pandas as pd\n",
    "\n",
    "names=pd.read_csv('/Users/hubertcheung/Downloads/temp.csv')\n",
    "names=names.dropna()\n",
    "nameparse=names['name'].str.split()\n",
    "\n",
    "nameparse = nameparse[nameparse.apply(lambda x: (isinstance(x, list) and len(x)>0))]\n",
    "nameparse = nameparse[nameparse.apply(lambda x: 'LTD' not in x)]"
   ]
  },
  {
   "cell_type": "code",
   "execution_count": 23,
   "id": "138ec926",
   "metadata": {},
   "outputs": [
    {
     "data": {
      "text/html": [
       "<div>\n",
       "<style scoped>\n",
       "    .dataframe tbody tr th:only-of-type {\n",
       "        vertical-align: middle;\n",
       "    }\n",
       "\n",
       "    .dataframe tbody tr th {\n",
       "        vertical-align: top;\n",
       "    }\n",
       "\n",
       "    .dataframe thead th {\n",
       "        text-align: right;\n",
       "    }\n",
       "</style>\n",
       "<table border=\"1\" class=\"dataframe\">\n",
       "  <thead>\n",
       "    <tr style=\"text-align: right;\">\n",
       "      <th></th>\n",
       "      <th>name</th>\n",
       "    </tr>\n",
       "  </thead>\n",
       "  <tbody>\n",
       "    <tr>\n",
       "      <th>0</th>\n",
       "      <td>TOHKAI THERMO (HK) CO LTD</td>\n",
       "    </tr>\n",
       "    <tr>\n",
       "      <th>1</th>\n",
       "      <td>LEE WAI HONG &amp; NGAN TIK HAN NDIYA (JT)</td>\n",
       "    </tr>\n",
       "    <tr>\n",
       "      <th>2</th>\n",
       "      <td>CHAN WAI LUEN</td>\n",
       "    </tr>\n",
       "    <tr>\n",
       "      <th>3</th>\n",
       "      <td>LAP WIN CO LTD</td>\n",
       "    </tr>\n",
       "    <tr>\n",
       "      <th>4</th>\n",
       "      <td>LI YEE LIN ELAINE</td>\n",
       "    </tr>\n",
       "    <tr>\n",
       "      <th>...</th>\n",
       "      <td>...</td>\n",
       "    </tr>\n",
       "    <tr>\n",
       "      <th>2261121</th>\n",
       "      <td>LIU WING KAI &amp; LO LAI YING (JT)</td>\n",
       "    </tr>\n",
       "    <tr>\n",
       "      <th>2261122</th>\n",
       "      <td>LEUNG TIM &amp; LEUNG CHIM YAN IDY (JT)</td>\n",
       "    </tr>\n",
       "    <tr>\n",
       "      <th>2261123</th>\n",
       "      <td>MOK KANG MING &amp; LEE CHI CHING (JT)</td>\n",
       "    </tr>\n",
       "    <tr>\n",
       "      <th>2261124</th>\n",
       "      <td>HAU SIU PO 1/2</td>\n",
       "    </tr>\n",
       "    <tr>\n",
       "      <th>2261125</th>\n",
       "      <td>NG KATHERINE &amp; LI CHOR KEUNG (JT)</td>\n",
       "    </tr>\n",
       "  </tbody>\n",
       "</table>\n",
       "<p>2261125 rows × 1 columns</p>\n",
       "</div>"
      ],
      "text/plain": [
       "                                           name\n",
       "0                     TOHKAI THERMO (HK) CO LTD\n",
       "1        LEE WAI HONG & NGAN TIK HAN NDIYA (JT)\n",
       "2                                 CHAN WAI LUEN\n",
       "3                                LAP WIN CO LTD\n",
       "4                             LI YEE LIN ELAINE\n",
       "...                                         ...\n",
       "2261121         LIU WING KAI & LO LAI YING (JT)\n",
       "2261122     LEUNG TIM & LEUNG CHIM YAN IDY (JT)\n",
       "2261123      MOK KANG MING & LEE CHI CHING (JT)\n",
       "2261124                          HAU SIU PO 1/2\n",
       "2261125       NG KATHERINE & LI CHOR KEUNG (JT)\n",
       "\n",
       "[2261125 rows x 1 columns]"
      ]
     },
     "execution_count": 23,
     "metadata": {},
     "output_type": "execute_result"
    }
   ],
   "source": [
    "df = pd.DataFrame()\n",
    "df['name'] = names['name']\n",
    "df"
   ]
  },
  {
   "cell_type": "code",
   "execution_count": 9,
   "id": "a12cb578",
   "metadata": {},
   "outputs": [],
   "source": [
    "with open('canton.txt', 'r', encoding='utf-8') as file:\n",
    "    lines = file.readlines()\n",
    "\n",
    "canton = [line.strip() for line in lines]"
   ]
  },
  {
   "cell_type": "code",
   "execution_count": 10,
   "id": "4149119b",
   "metadata": {},
   "outputs": [],
   "source": [
    "with open('pinyin.txt','r',encoding='utf-8') as file:\n",
    "    lines=file.readlines()\n",
    "\n",
    "pinyin = [line.strip() for line in lines]"
   ]
  },
  {
   "cell_type": "code",
   "execution_count": 11,
   "id": "bb5492f3",
   "metadata": {},
   "outputs": [],
   "source": [
    "with open('last_name_pinyin.txt','r',encoding='utf-8') as file:\n",
    "    lines=file.readlines()\n",
    "    \n",
    "last_name_pinyin = [line.strip() for line in lines]"
   ]
  },
  {
   "cell_type": "code",
   "execution_count": 12,
   "id": "04928f29",
   "metadata": {},
   "outputs": [],
   "source": [
    "with open('last_name_canton.txt','r',encoding='utf-8') as file:\n",
    "    lines=file.readlines()\n",
    "    \n",
    "last_name_canton = [line.strip() for line in lines]"
   ]
  },
  {
   "cell_type": "code",
   "execution_count": 13,
   "id": "2b25bcb5",
   "metadata": {},
   "outputs": [],
   "source": [
    "pinyin_unique = list(set(pinyin) - (set(canton) & set(pinyin)))\n",
    "canton_unique = list(set(canton) - (set(canton) & set(pinyin)))"
   ]
  },
  {
   "cell_type": "code",
   "execution_count": 14,
   "id": "84a3111b",
   "metadata": {},
   "outputs": [],
   "source": [
    "#The main part of the identification. Currently the determination is not perfect.\n",
    "def identify(name):\n",
    "    if len(name)==1: return 'unknown' #Lists with only one element are weird.\n",
    "    if len(name)>=2:\n",
    "        if name[0] in last_name_pinyin:\n",
    "            if name[0] not in last_name_canton:\n",
    "                if name[1] in canton_unique: \n",
    "                    return 'unknown' #If the last name is not Cantonese but these is Cantonese in first name, weird.\n",
    "                elif len(name)>=3 and name[2] in canton_unique:\n",
    "                    return 'unknown'\n",
    "                else: return 'ML'\n",
    "            if name[0] in last_name_canton:\n",
    "                if name[1] in pinyin_unique:\n",
    "                    return 'ML'\n",
    "                elif name[1] in canton_unique:\n",
    "                    return 'HK'\n",
    "                elif len(name)>=3:\n",
    "                    if name[2] in pinyin_unique: return 'ML'\n",
    "                    elif name[2] in canton_unique: return 'HK'\n",
    "                    elif len(name)>=4:\n",
    "                        if name[3] in pinyin_unique: return 'ML'\n",
    "                        if name[3] in canton_unique: return 'HK'\n",
    "                elif len(name)==2: return 'ML'\n",
    "                else: return 'HK'\n",
    "                    \n",
    "        elif name[0] in last_name_canton: return 'HK'\n",
    "        else:\n",
    "            return 'F'"
   ]
  },
  {
   "cell_type": "code",
   "execution_count": 15,
   "id": "218429aa",
   "metadata": {},
   "outputs": [],
   "source": [
    "def countname(a): #count number of names in a list\n",
    "    count=0\n",
    "    for item in a:\n",
    "        if item == '&':\n",
    "            count+=1\n",
    "    return count\n",
    "\n",
    "counting = nameparse.apply(lambda x: countname(x))"
   ]
  },
  {
   "cell_type": "code",
   "execution_count": 16,
   "id": "4b38d762",
   "metadata": {},
   "outputs": [],
   "source": [
    "def locate(a,n): #locate the index of & in a list\n",
    "    count = 0\n",
    "    for i,item in enumerate(a):\n",
    "        if item == '&':\n",
    "            count += 1\n",
    "        if count == n:\n",
    "            return i\n",
    "    if n == 0:\n",
    "        return 0\n",
    "    if n == countname(a):\n",
    "        return len(a)"
   ]
  },
  {
   "cell_type": "code",
   "execution_count": 17,
   "id": "41a45685",
   "metadata": {},
   "outputs": [],
   "source": [
    "def clean(mylist): #delete the repeating & in a list\n",
    "    i = 1\n",
    "    newlist = []\n",
    "    consecutive = False\n",
    "    for item in mylist:\n",
    "        if item == '&':\n",
    "            if not consecutive:\n",
    "                newlist.append(item)\n",
    "                consecutive = True\n",
    "        else:\n",
    "            newlist.append(item)\n",
    "            consecutive = False\n",
    "    if mylist[-1] == '&':\n",
    "        mylist = mylist[:-1]\n",
    "    return newlist"
   ]
  },
  {
   "cell_type": "code",
   "execution_count": 18,
   "id": "4a53881a",
   "metadata": {},
   "outputs": [],
   "source": [
    "nameparse = nameparse.apply(lambda x: clean(x))"
   ]
  },
  {
   "cell_type": "code",
   "execution_count": 19,
   "id": "d8fc4920",
   "metadata": {},
   "outputs": [],
   "source": [
    "from itertools import chain, combinations #a list of sets of all possible outcomes\n",
    "\n",
    "def powerset(iterable):\n",
    "    s = list(iterable)\n",
    "    return chain.from_iterable(combinations(s, r+1) for r in range(len(s)))\n",
    "\n",
    "outcome = [set(x) for x in powerset({'HK','ML','F','unknown'})]"
   ]
  },
  {
   "cell_type": "code",
   "execution_count": 20,
   "id": "4e9769f4",
   "metadata": {},
   "outputs": [],
   "source": [
    "#This only works on multiple names.\n",
    "def nameloop(namelist):\n",
    "    namecount = countname(namelist) #Notice that here namecount is actually the number of names - 1.\n",
    "    origin = []\n",
    "    for num in range(namecount+1):\n",
    "        name = namelist[locate(namelist,num):locate(namelist,num+1)]\n",
    "        if name[0] == '&':\n",
    "            name = name[1:]\n",
    "        origin.append(identify(name))\n",
    "    origin_set = set(origin)\n",
    "    \n",
    "    for item in outcome:\n",
    "        if item == origin_set:\n",
    "            return item\n",
    "    #Directly return origin_set may incur problem about order of elements."
   ]
  },
  {
   "cell_type": "code",
   "execution_count": 24,
   "id": "3688dc79",
   "metadata": {},
   "outputs": [
    {
     "name": "stdout",
     "output_type": "stream",
     "text": [
      "The code took 43.869125999999994 seconds of CPU time to run.\n"
     ]
    }
   ],
   "source": [
    "import time\n",
    "start_time = time.process_time() # store the start time\n",
    "\n",
    "f = lambda x: identify(x) if countname(x)==0 else None\n",
    "df['single'] = nameparse.apply(f)\n",
    "        \n",
    "g = lambda x: nameloop(x) if countname(x)>0 else None\n",
    "df['multiple'] = nameparse.apply(g)\n",
    "\n",
    "end_time = time.process_time() # store the end time\n",
    "print(f\"The code took {end_time - start_time} seconds of CPU time to run.\")"
   ]
  },
  {
   "cell_type": "code",
   "execution_count": 26,
   "id": "08a55acf",
   "metadata": {},
   "outputs": [],
   "source": [
    "df.to_csv('df.csv')"
   ]
  }
 ],
 "metadata": {
  "kernelspec": {
   "display_name": "Python 3 (ipykernel)",
   "language": "python",
   "name": "python3"
  },
  "language_info": {
   "codemirror_mode": {
    "name": "ipython",
    "version": 3
   },
   "file_extension": ".py",
   "mimetype": "text/x-python",
   "name": "python",
   "nbconvert_exporter": "python",
   "pygments_lexer": "ipython3",
   "version": "3.9.7"
  }
 },
 "nbformat": 4,
 "nbformat_minor": 5
}
